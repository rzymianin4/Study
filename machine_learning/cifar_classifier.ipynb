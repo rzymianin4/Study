{
 "cells": [
  {
   "cell_type": "code",
   "execution_count": 1,
   "metadata": {},
   "outputs": [],
   "source": [
    "import torch\n",
    "import torch.nn as nn\n",
    "import torch.utils.data\n",
    "import numpy as np\n",
    "\n",
    "import matplotlib.pyplot as plt\n",
    "import tqdm\n",
    "\n",
    "from nvidia.dali.plugin.pytorch import DALIClassificationIterator\n",
    "from nvidia.dali.pipeline import Pipeline\n",
    "import nvidia.dali.ops as ops\n",
    "import nvidia.dali.types as types"
   ]
  },
  {
   "cell_type": "code",
   "execution_count": 5,
   "metadata": {},
   "outputs": [],
   "source": [
    "#hyperparameters\n",
    "\n",
    "BATCH_SIZE = 64\n",
    "CROP_SHAPE = (28, 28)\n",
    "LEARN_RATE = 0.001\n",
    "BN_MOMENTUM = 0.1\n",
    "CONV_KERNEL = 3\n",
    "\n",
    "DALI_THDS = 3\n",
    "\n",
    "LABEL_MAP = [\"airplane\", \"automobile\", \"bird\", \"cat\", \"deer\", \"dog\", \"frog\", \"horse\", \"ship\", \"truck\"]"
   ]
  },
  {
   "cell_type": "code",
   "execution_count": 6,
   "metadata": {},
   "outputs": [
    {
     "name": "stdout",
     "output_type": "stream",
     "text": [
      "cuda\n"
     ]
    }
   ],
   "source": [
    "device = torch.device('cuda' if torch.cuda.is_available() else 'cpu')\n",
    "print(device.type)"
   ]
  },
  {
   "cell_type": "code",
   "execution_count": 7,
   "metadata": {},
   "outputs": [],
   "source": [
    "# DALI Pipeline\n",
    "\n",
    "\n",
    "_mean_pixel = [255 * x for x in (0.485, 0.456, 0.406)]\n",
    "_std_pixel  = [255 * x for x in (0.229, 0.224, 0.225)]\n",
    "\n",
    "\n",
    "class HybridTrainPipe(Pipeline):\n",
    "    def __init__(self, rec_path, idx_path, batch_size, crop_shape, resize_shp=None,\n",
    "                 output_layout=types.NCHW, pad_output=False, dtype='float32', mem_padding=16,\n",
    "                 num_threads=3, device_id=0, shard_id=0, num_shards=1):        \n",
    "        super(HybridTrainPipe, self).__init__(batch_size, num_threads, device_id, seed=12+device_id)\n",
    "        \n",
    "        self.input = ops.MXNetReader(path=[rec_path], index_path=[idx_path],\n",
    "                                     random_shuffle=True, shard_id=shard_id, num_shards=num_shards)\n",
    "        self.decode = ops.nvJPEGDecoder(device=\"mixed\", output_type=types.RGB,\n",
    "                                        device_memory_padding=mem_padding*1024*1024,\n",
    "                                        host_memory_padding=mem_padding*1024*1024)\n",
    "        self.rotate = ops.Rotate(device=\"gpu\")\n",
    "        self.distrib = ops.Uniform(range=(-10.0,10.0))\n",
    "        self.rrc = ops.RandomResizedCrop(device=\"gpu\", size=crop_shape, random_area=[0.2, 1])\n",
    "        self.cmnp = ops.CropMirrorNormalize(device        = \"gpu\",\n",
    "                                            output_dtype  = types.FLOAT16 if dtype == 'float16' else types.FLOAT,\n",
    "                                            output_layout = output_layout,\n",
    "                                            crop          = crop_shape,\n",
    "                                            image_type    = types.RGB,\n",
    "                                            mean          = _mean_pixel,\n",
    "                                            std           = _std_pixel)\n",
    "        self.coin = ops.CoinFlip(probability=0.5)\n",
    "\n",
    "    def define_graph(self):\n",
    "        self.jpegs, self.labels = self.input(name=\"Reader\")\n",
    "        images = self.decode(self.jpegs)\n",
    "        #images = self.rotate(images, angle=self.distrib())\n",
    "        images = self.rrc(images)\n",
    "        images = self.cmnp(images.gpu(), mirror=self.coin())\n",
    "        return [images, self.labels]\n",
    "    \n",
    "\n",
    "class HybridValidPipe(Pipeline):\n",
    "    def __init__(self, rec_path, idx_path, batch_size, crop_shape, resize_shp=None,\n",
    "                 output_layout=types.NCHW, pad_output=False, dtype='float32', mem_padding=16,\n",
    "                 num_threads=3, device_id=0, shard_id=0, num_shards=1):\n",
    "        super(HybridValidPipe, self).__init__(batch_size, num_threads, device_id, seed=12+device_id)\n",
    "        self.input = ops.MXNetReader(path = [rec_path], index_path=[idx_path],\n",
    "                                     random_shuffle=False, shard_id=shard_id, num_shards=num_shards)\n",
    "        self.decode = ops.nvJPEGDecoder(device = \"mixed\", output_type = types.RGB,\n",
    "                                        device_memory_padding=mem_padding*1024*1024,\n",
    "                                        host_memory_padding=mem_padding*1024*1024)\n",
    "        self.resize = ops.Resize(device = \"gpu\", resize_shorter=resize_shp) if resize_shp else None\n",
    "        self.cmnp = ops.CropMirrorNormalize(device        = \"gpu\",\n",
    "                                            output_dtype  = types.FLOAT16 if dtype == 'float16' else types.FLOAT,\n",
    "                                            output_layout = output_layout,\n",
    "                                            crop          = crop_shape,\n",
    "                                            pad_output    = pad_output,\n",
    "                                            image_type    = types.RGB,\n",
    "                                            mean          = _mean_pixel,\n",
    "                                            std           = _std_pixel)\n",
    "\n",
    "    def define_graph(self):\n",
    "        self.jpegs, self.labels = self.input(name = \"Reader\")\n",
    "        images = self.decode(self.jpegs)\n",
    "        if self.resize:\n",
    "            images = self.resize(images)\n",
    "        images = self.cmnp(images)\n",
    "        return [images, self.labels]"
   ]
  },
  {
   "cell_type": "code",
   "execution_count": 186,
   "metadata": {},
   "outputs": [],
   "source": [
    "# model\n",
    "\n",
    "Activation = nn.ReLU\n",
    "Pooling = nn.MaxPool2d\n",
    "\n",
    "class BottleneckUnit(nn.Module):\n",
    "    def __init__(self, in_C, out_C, down_C=None, down_times=4, k=CONV_KERNEL, s=1):\n",
    "        super(BottleneckUnit, self).__init__()\n",
    "        down_C = down_C if down_C is not None else out_C//down_times\n",
    "        self.addZeros = (lambda x: torch.cat([x, torch.zeros(x.shape[:1]+torch.Size([out_C-in_C])+x.shape[2:]).cuda()], dim=1)) if in_C != out_C else None\n",
    "        self.pool_s = Pooling((3,3), stride=s, padding=(1,1)) if s > 1 else None\n",
    "        \n",
    "        self.conv1 = nn.Conv2d(in_C, down_C, 1, padding=0, stride=1)\n",
    "        self.bn1 = nn.BatchNorm2d(down_C, momentum=BN_MOMENTUM)\n",
    "        self.activ1 = Activation()\n",
    "        self.pool_1 = Pooling((3,3), stride=s, padding=(1,1)) if s > 1 else None\n",
    "        self.conv2 = nn.Conv2d(down_C, down_C, k, padding=1)\n",
    "        self.bn2 = nn.BatchNorm2d(down_C, momentum=BN_MOMENTUM)\n",
    "        self.activ2 = Activation()\n",
    "        self.conv3 = nn.Conv2d(down_C, out_C, 1, padding=0, stride=1)\n",
    "        self.bn3 = nn.BatchNorm2d(out_C, momentum=BN_MOMENTUM)\n",
    "        self.activ3 = Activation()\n",
    "        \n",
    "    def forward(self, x):\n",
    "        shortcut = x\n",
    "        if self.addZeros is not None:\n",
    "            shortcut = self.addZeros(shortcut)\n",
    "        if self.pool_s is not None:\n",
    "            shortcut = self.pool_s(shortcut)\n",
    "        \n",
    "        x = self.conv1(x)\n",
    "        x = self.bn1(x)\n",
    "        x = self.activ1(x)\n",
    "        if self.pool_1 is not None:\n",
    "            x = self.pool_s(x)\n",
    "        x = self.conv2(x)\n",
    "        x = self.bn2(x)\n",
    "        x = self.activ2(x)\n",
    "        x = self.conv3(x)\n",
    "        return self.activ3(self.bn3(x)+shortcut)\n",
    "        \n",
    "\n",
    "class ResidualStrideUnit(nn.Module):\n",
    "    def __init__(self, in_C, out_C, k=CONV_KERNEL, s=1):\n",
    "        super(ResidualStrideUnit, self).__init__()\n",
    "        self.conv_s = nn.Conv2d(in_C, out_C, 1, stride=s) if in_C != out_C else None\n",
    "        #self.bn_s = nn.BatchNorm2d(out_C, momentum=BN_MOMENTUM) if in_C != out_C else None\n",
    "        #self.pool_s = Pooling((3,3), stride=s, padding=(1,1)) if s > 1 else None\n",
    "        \n",
    "        self.conv1 = nn.Conv2d(in_C, out_C, k, padding=1, stride=s)\n",
    "        self.bn1 = nn.BatchNorm2d(out_C, momentum=BN_MOMENTUM)\n",
    "        self.activ1 = Activation()\n",
    "        self.conv2 = nn.Conv2d(out_C, out_C, k, padding=1)\n",
    "        self.bn2 = nn.BatchNorm2d(out_C, momentum=BN_MOMENTUM)\n",
    "        self.activ2 = Activation()\n",
    "        \n",
    "    def forward(self, x):\n",
    "        if self.conv_s:\n",
    "            shortcut = self.conv_s(x)\n",
    "            #shortcut = self.bn_s(shortcut)\n",
    "            #if self.pool_s:\n",
    "            #    shortcut = self.pool_s(shortcut)\n",
    "        else:\n",
    "            shortcut = x\n",
    "            \n",
    "        x = self.conv1(x)\n",
    "        x = self.bn1(x)\n",
    "        x = self.activ1(x)\n",
    "        x = self.conv2(x)\n",
    "        return self.activ2(self.bn2(x)+shortcut)\n",
    "\n",
    "    \n",
    "class ResidualUnit(nn.Module):\n",
    "    def __init__(self, in_C, out_C, k=CONV_KERNEL, s=1):\n",
    "        super(ResidualUnit, self).__init__()\n",
    "        self.addZeros = (lambda x: torch.cat([x, torch.zeros(x.shape[:1]+torch.Size([out_C-in_C])+x.shape[2:]).cuda()], dim=1)) if in_C != out_C else None\n",
    "        self.pool_s = Pooling((3,3), stride=s, padding=(1,1)) if s > 1 else None\n",
    "        \n",
    "        self.conv1 = nn.Conv2d(in_C, out_C, k, padding=1, stride=1)\n",
    "        self.bn1 = nn.BatchNorm2d(out_C, momentum=BN_MOMENTUM)\n",
    "        self.activ1 = Activation()\n",
    "        self.pool_1 = Pooling((3,3), stride=s, padding=(1,1)) if s > 1 else None\n",
    "        self.conv2 = nn.Conv2d(out_C, out_C, k, padding=1)\n",
    "        self.bn2 = nn.BatchNorm2d(out_C, momentum=BN_MOMENTUM)\n",
    "        self.activ2 = Activation()\n",
    "    \n",
    "    def forward(self, x):\n",
    "        shortcut = x\n",
    "        if self.addZeros is not None:\n",
    "            shortcut = self.addZeros(shortcut)\n",
    "        if self.pool_s is not None:\n",
    "            shortcut = self.pool_s(shortcut)\n",
    "        \n",
    "        x = self.conv1(x)\n",
    "        x = self.bn1(x)\n",
    "        x = self.activ1(x)\n",
    "        if self.pool_1 is not None:\n",
    "            x = self.pool_s(x)\n",
    "        x = self.conv2(x)\n",
    "        return self.activ2(self.bn2(x)+shortcut)\n",
    "\n",
    "    \n",
    "class PreactUnit(nn.Module):\n",
    "    def __init__(self, in_C, out_C, k=CONV_KERNEL, s=1):\n",
    "        super(PreactUnit, self).__init__()\n",
    "        self.addZeros = (lambda x: torch.cat([x, torch.zeros(x.shape[:1]+torch.Size([out_C-in_C])+x.shape[2:]).cuda()], dim=1)) if in_C != out_C else None\n",
    "        self.pool_s = Pooling((3,3), stride=s, padding=(1,1)) if s > 1 else None\n",
    "        \n",
    "        self.bn1 = nn.BatchNorm2d(in_C, momentum=BN_MOMENTUM)\n",
    "        self.activ1 = Activation()\n",
    "        self.conv1 = nn.Conv2d(in_C, out_C, k, padding=1, stride=1)\n",
    "        self.pool_1 = Pooling((3,3), stride=s, padding=(1,1)) if s > 1 else None\n",
    "        self.bn2 = nn.BatchNorm2d(out_C, momentum=BN_MOMENTUM)\n",
    "        self.activ2 = Activation()\n",
    "        self.conv2 = nn.Conv2d(out_C, out_C, k, padding=1)\n",
    "        \n",
    "    def forward(self, x):\n",
    "        shortcut = x\n",
    "        if self.addZeros is not None:\n",
    "            shortcut = self.addZeros(shortcut)\n",
    "        if self.pool_s is not None:\n",
    "            shortcut = self.pool_s(shortcut)\n",
    "        \n",
    "        x = self.bn1(x)\n",
    "        x = self.activ1(x)\n",
    "        x = self.conv1(x)\n",
    "        if self.pool_1 is not None:\n",
    "            x = self.pool_s(x)\n",
    "        x = self.bn2(x)\n",
    "        x = self.activ2(x)\n",
    "        x = self.conv2(x)\n",
    "        return x+shortcut\n",
    "\n",
    "\n",
    "UNIT = ResidualUnit\n",
    "DASHED_UNIT = ResidualUnit\n",
    "\n",
    "CONV_SIZES = [32, 64, 128, 256, 512]\n",
    "FULLY_SIZES = [CONV_SIZES[-1]*4, 1024]\n",
    "class Classifier(nn.Module):\n",
    "    def __init__(self):\n",
    "        super(Classifier, self).__init__()\n",
    "        convs = []\n",
    "        fully = []\n",
    "        convs.append(nn.Conv2d(3, CONV_SIZES[0], 5, padding=2))\n",
    "        convs.append(nn.BatchNorm2d(CONV_SIZES[0], momentum=BN_MOMENTUM))\n",
    "        convs.append(Activation())\n",
    "        convs.append(UNIT(CONV_SIZES[0], CONV_SIZES[0]))\n",
    "        convs.append(UNIT(CONV_SIZES[0], CONV_SIZES[0]))\n",
    "        convs.append(UNIT(CONV_SIZES[0], CONV_SIZES[0]))\n",
    "        convs.append(UNIT(CONV_SIZES[0], CONV_SIZES[0]))\n",
    "        \n",
    "#         convs.append(nn.Conv2d(CONV_SIZES[0], CONV_SIZES[1], CONV_KERNEL, padding=(1, 1)))\n",
    "#         convs.append(nn.BatchNorm2d(CONV_SIZES[1], momentum=BN_MOMENTUM))\n",
    "#         convs.append(Pooling((3,3), stride=(2,2), padding=(1,1)))\n",
    "#         #convs.append(Pooling((2,2), stride=(2,2)))#, padding=(1,1)))\n",
    "#         convs.append(Activation())\n",
    "        convs.append(DASHED_UNIT(CONV_SIZES[0], CONV_SIZES[1], s=2))\n",
    "        convs.append(UNIT(CONV_SIZES[1], CONV_SIZES[1]))\n",
    "        convs.append(UNIT(CONV_SIZES[1], CONV_SIZES[1]))\n",
    "        convs.append(UNIT(CONV_SIZES[1], CONV_SIZES[1]))\n",
    "        convs.append(UNIT(CONV_SIZES[1], CONV_SIZES[1]))\n",
    "        \n",
    "#         convs.append(nn.Conv2d(CONV_SIZES[1], CONV_SIZES[2], CONV_KERNEL, padding=(1, 1)))\n",
    "#         convs.append(nn.BatchNorm2d(CONV_SIZES[2], momentum=BN_MOMENTUM))\n",
    "#         convs.append(Pooling((3,3), stride=(2,2), padding=(1,1)))\n",
    "#         #convs.append(Pooling((2,2), stride=(2,2)))#, padding=(1,1)))\n",
    "#         convs.append(Activation())\n",
    "        convs.append(DASHED_UNIT(CONV_SIZES[1], CONV_SIZES[2], s=2))\n",
    "        convs.append(UNIT(CONV_SIZES[2], CONV_SIZES[2]))\n",
    "        convs.append(UNIT(CONV_SIZES[2], CONV_SIZES[2]))\n",
    "        \n",
    "#         convs.append(nn.Conv2d(CONV_SIZES[2], CONV_SIZES[3], CONV_KERNEL, padding=(1, 1)))\n",
    "#         convs.append(nn.BatchNorm2d(CONV_SIZES[3], momentum=BN_MOMENTUM))\n",
    "#         convs.append(Pooling((3,3), stride=(2,2), padding=(1,1)))\n",
    "#         convs.append(Pooling((2,2), stride=(2,2)))#, padding=(1,1)))\n",
    "#         convs.append(Activation())\n",
    "        convs.append(DASHED_UNIT(CONV_SIZES[2], CONV_SIZES[3], s=2))\n",
    "        convs.append(UNIT(CONV_SIZES[3], CONV_SIZES[3]))\n",
    "        convs.append(UNIT(CONV_SIZES[3], CONV_SIZES[3]))\n",
    "        \n",
    "        convs.append(DASHED_UNIT(CONV_SIZES[3], CONV_SIZES[4], s=2))\n",
    "#         convs.append(UNIT(CONV_SIZES[4], CONV_SIZES[4]))\n",
    "#         convs.append(UNIT(CONV_SIZES[4], CONV_SIZES[4]))\n",
    "        \n",
    "#         convs.append(nn.Conv2d(CONV_SIZES[3], CONV_SIZES[4], CONV_KERNEL, padding=(1, 1)))\n",
    "#         convs.append(nn.BatchNorm2d(CONV_SIZES[4], momentum=BN_MOMENTUM))\n",
    "#         convs.append(Pooling((3,3), stride=(2,2), padding=(1,1)))\n",
    "#         convs.append(Activation())    \n",
    "    \n",
    "#         fully.append(nn.Linear(FULLY_SIZES[0], FULLY_SIZES[0]))\n",
    "        #fully.append(nn.Dropout(0.2))\n",
    "        fully.append(nn.BatchNorm1d(FULLY_SIZES[0]))\n",
    "#         fully.append(Activation())\n",
    "        fully.append(nn.Linear(FULLY_SIZES[0], 10))\n",
    "        fully.append(nn.Softmax(dim=1))\n",
    "        \n",
    "        self.convs = nn.ModuleList(convs)\n",
    "        self.fully = nn.ModuleList(fully)\n",
    "        self.eval()\n",
    "    \n",
    "    def forward(self, x):\n",
    "        for layer in self.convs:\n",
    "            x = layer(x)\n",
    "        x = x.view(x.shape[0], -1)\n",
    "        for layer in self.fully:\n",
    "            x = layer(x)\n",
    "        return x"
   ]
  },
  {
   "cell_type": "code",
   "execution_count": 187,
   "metadata": {},
   "outputs": [],
   "source": [
    "def epoch(model, data_loader, criterion, optimizer, epoch_size, printstep=1, loss_ema=None, loss_momentum=0.9):\n",
    "    model.train()\n",
    "    correct = 0\n",
    "    total = 0\n",
    "    #for i, batch in enumerate(data_loader):\n",
    "    for i, batch in tqdm.tqdm_notebook(enumerate(data_loader), total=int(epoch_size), leave=False):\n",
    "        imgs, lbls = batch[0]\n",
    "        imgs, lbls = imgs[0], lbls[0].type(torch.cuda.LongTensor)\n",
    "        \n",
    "        outs = model(imgs)\n",
    "        loss = criterion(outs, lbls)\n",
    "        loss_ema = loss_momentum*loss_ema + (1-loss_momentum)*loss if loss_ema else loss\n",
    "\n",
    "        _, preds = torch.max(outs.data, 1)\n",
    "        total += lbls.size(0)\n",
    "        correct += (preds == lbls).sum().item()\n",
    "        \n",
    "        optimizer.zero_grad()\n",
    "        loss.backward()\n",
    "        optimizer.step()\n",
    "        if i%printstep == 0:\n",
    "            print(\"\\r{0:3d}/{1:3d}; loss: {2:.5f}\".format(i, epoch_size, loss_ema.item()), end='')\n",
    "    data_loader.reset()\n",
    "    model.eval()\n",
    "    return correct / total\n",
    "    \n",
    "def evaluate(model, data_loader, epoch_size):\n",
    "    with torch.no_grad():\n",
    "        correct = 0\n",
    "        total = 0\n",
    "        for i, batch in tqdm.tqdm_notebook(enumerate(data_loader), total=int(epoch_size), leave=False):\n",
    "            imgs, lbls = batch[0]\n",
    "            imgs, lbls = imgs[0], lbls[0].type(torch.cuda.LongTensor)\n",
    "            outs = model(imgs)\n",
    "            _, preds = torch.max(outs.data, 1)\n",
    "            total += lbls.size(0)\n",
    "            correct += (preds == lbls).sum().item()\n",
    "        data_loader.reset()\n",
    "    return correct / total"
   ]
  },
  {
   "cell_type": "code",
   "execution_count": 188,
   "metadata": {},
   "outputs": [],
   "source": [
    "daliTrainPipe = HybridTrainPipe(\"/home/dawid/Dokumenty/DeepLearning/data/cifar_rec/train.rec\",\n",
    "                                \"/home/dawid/Dokumenty/DeepLearning/data/cifar_rec/train.idx\",\n",
    "                                BATCH_SIZE, CROP_SHAPE, num_threads=DALI_THDS)\n",
    "\n",
    "daliValidPipe = HybridValidPipe(\"/home/dawid/Dokumenty/DeepLearning/data/cifar_rec/valid.rec\",\n",
    "                                \"/home/dawid/Dokumenty/DeepLearning/data/cifar_rec/valid.idx\",\n",
    "                                BATCH_SIZE, CROP_SHAPE, num_threads=DALI_THDS)\n",
    "\n",
    "daliTrainPipe.build()\n",
    "daliValidPipe.build()\n",
    "\n",
    "daliTrainIter = DALIClassificationIterator(daliTrainPipe, size=daliTrainPipe.epoch_size(\"Reader\"))\n",
    "daliValidIter = DALIClassificationIterator(daliValidPipe, size=daliValidPipe.epoch_size(\"Reader\"))"
   ]
  },
  {
   "cell_type": "code",
   "execution_count": 189,
   "metadata": {},
   "outputs": [],
   "source": [
    "classifier = Classifier().to(device)\n",
    "crossEntropy = nn.CrossEntropyLoss()"
   ]
  },
  {
   "cell_type": "code",
   "execution_count": 190,
   "metadata": {},
   "outputs": [],
   "source": [
    "#classifier.convs"
   ]
  },
  {
   "cell_type": "code",
   "execution_count": 191,
   "metadata": {},
   "outputs": [],
   "source": [
    "#adam = torch.optim.Adam(classifier.parameters(), lr=LEARN_RATE)\n",
    "#sgd = torch.optim.SGD(classifier.parameters(), lr=0.001) "
   ]
  },
  {
   "cell_type": "code",
   "execution_count": 192,
   "metadata": {},
   "outputs": [
    {
     "data": {
      "application/vnd.jupyter.widget-view+json": {
       "model_id": "",
       "version_major": 2,
       "version_minor": 0
      },
      "text/plain": [
       "HBox(children=(IntProgress(value=0, max=781), HTML(value='')))"
      ]
     },
     "metadata": {},
     "output_type": "display_data"
    },
    {
     "data": {
      "application/vnd.jupyter.widget-view+json": {
       "model_id": "",
       "version_major": 2,
       "version_minor": 0
      },
      "text/plain": [
       "HBox(children=(IntProgress(value=0, max=156), HTML(value='')))"
      ]
     },
     "metadata": {},
     "output_type": "display_data"
    },
    {
     "name": "stdout",
     "output_type": "stream",
     "text": [
      "train: 0.06712    valid: 0.06837\n"
     ]
    }
   ],
   "source": [
    "train_results = [evaluate(classifier, daliTrainIter, daliTrainPipe.epoch_size(\"Reader\")//BATCH_SIZE)]\n",
    "valid_results = [evaluate(classifier, daliValidIter, daliValidPipe.epoch_size(\"Reader\")//BATCH_SIZE)]\n",
    "print(\"train: {0:.5f}    valid: {1:.5f}\".format(train_results[-1], valid_results[-1]))"
   ]
  },
  {
   "cell_type": "code",
   "execution_count": 193,
   "metadata": {},
   "outputs": [
    {
     "data": {
      "application/vnd.jupyter.widget-view+json": {
       "model_id": "9441f706cee742ebb3d6ee5ad14ac9c2",
       "version_major": 2,
       "version_minor": 0
      },
      "text/plain": [
       "HBox(children=(IntProgress(value=0), HTML(value='')))"
      ]
     },
     "metadata": {},
     "output_type": "display_data"
    },
    {
     "data": {
      "application/vnd.jupyter.widget-view+json": {
       "model_id": "",
       "version_major": 2,
       "version_minor": 0
      },
      "text/plain": [
       "HBox(children=(IntProgress(value=0, max=781), HTML(value='')))"
      ]
     },
     "metadata": {},
     "output_type": "display_data"
    },
    {
     "name": "stdout",
     "output_type": "stream",
     "text": [
      "780/781; loss: 2.02871"
     ]
    },
    {
     "data": {
      "application/vnd.jupyter.widget-view+json": {
       "model_id": "",
       "version_major": 2,
       "version_minor": 0
      },
      "text/plain": [
       "HBox(children=(IntProgress(value=0, max=156), HTML(value='')))"
      ]
     },
     "metadata": {},
     "output_type": "display_data"
    },
    {
     "name": "stdout",
     "output_type": "stream",
     "text": [
      "1 : train: 0.36078    valid: 0.44161\n"
     ]
    },
    {
     "data": {
      "application/vnd.jupyter.widget-view+json": {
       "model_id": "",
       "version_major": 2,
       "version_minor": 0
      },
      "text/plain": [
       "HBox(children=(IntProgress(value=0, max=781), HTML(value='')))"
      ]
     },
     "metadata": {},
     "output_type": "display_data"
    },
    {
     "name": "stdout",
     "output_type": "stream",
     "text": [
      "780/781; loss: 1.94985"
     ]
    },
    {
     "data": {
      "application/vnd.jupyter.widget-view+json": {
       "model_id": "",
       "version_major": 2,
       "version_minor": 0
      },
      "text/plain": [
       "HBox(children=(IntProgress(value=0, max=156), HTML(value='')))"
      ]
     },
     "metadata": {},
     "output_type": "display_data"
    },
    {
     "name": "stdout",
     "output_type": "stream",
     "text": [
      "2 : train: 0.48103    valid: 0.50310\n"
     ]
    },
    {
     "data": {
      "application/vnd.jupyter.widget-view+json": {
       "model_id": "",
       "version_major": 2,
       "version_minor": 0
      },
      "text/plain": [
       "HBox(children=(IntProgress(value=0, max=781), HTML(value='')))"
      ]
     },
     "metadata": {},
     "output_type": "display_data"
    },
    {
     "name": "stdout",
     "output_type": "stream",
     "text": [
      "780/781; loss: 1.89381"
     ]
    },
    {
     "data": {
      "application/vnd.jupyter.widget-view+json": {
       "model_id": "",
       "version_major": 2,
       "version_minor": 0
      },
      "text/plain": [
       "HBox(children=(IntProgress(value=0, max=156), HTML(value='')))"
      ]
     },
     "metadata": {},
     "output_type": "display_data"
    },
    {
     "name": "stdout",
     "output_type": "stream",
     "text": [
      "3 : train: 0.54243    valid: 0.57482\n"
     ]
    },
    {
     "data": {
      "application/vnd.jupyter.widget-view+json": {
       "model_id": "",
       "version_major": 2,
       "version_minor": 0
      },
      "text/plain": [
       "HBox(children=(IntProgress(value=0, max=781), HTML(value='')))"
      ]
     },
     "metadata": {},
     "output_type": "display_data"
    },
    {
     "name": "stdout",
     "output_type": "stream",
     "text": [
      "781/781; loss: 1.85081"
     ]
    },
    {
     "data": {
      "application/vnd.jupyter.widget-view+json": {
       "model_id": "",
       "version_major": 2,
       "version_minor": 0
      },
      "text/plain": [
       "HBox(children=(IntProgress(value=0, max=156), HTML(value='')))"
      ]
     },
     "metadata": {},
     "output_type": "display_data"
    },
    {
     "name": "stdout",
     "output_type": "stream",
     "text": [
      "4 : train: 0.57721    valid: 0.61555\n"
     ]
    },
    {
     "data": {
      "application/vnd.jupyter.widget-view+json": {
       "model_id": "",
       "version_major": 2,
       "version_minor": 0
      },
      "text/plain": [
       "HBox(children=(IntProgress(value=0, max=781), HTML(value='')))"
      ]
     },
     "metadata": {},
     "output_type": "display_data"
    },
    {
     "name": "stdout",
     "output_type": "stream",
     "text": [
      "780/781; loss: 1.81227"
     ]
    },
    {
     "data": {
      "application/vnd.jupyter.widget-view+json": {
       "model_id": "",
       "version_major": 2,
       "version_minor": 0
      },
      "text/plain": [
       "HBox(children=(IntProgress(value=0, max=156), HTML(value='')))"
      ]
     },
     "metadata": {},
     "output_type": "display_data"
    },
    {
     "name": "stdout",
     "output_type": "stream",
     "text": [
      "5 : train: 0.61010    valid: 0.68039\n"
     ]
    },
    {
     "data": {
      "application/vnd.jupyter.widget-view+json": {
       "model_id": "",
       "version_major": 2,
       "version_minor": 0
      },
      "text/plain": [
       "HBox(children=(IntProgress(value=0, max=781), HTML(value='')))"
      ]
     },
     "metadata": {},
     "output_type": "display_data"
    },
    {
     "name": "stdout",
     "output_type": "stream",
     "text": [
      "780/781; loss: 1.81028"
     ]
    },
    {
     "data": {
      "application/vnd.jupyter.widget-view+json": {
       "model_id": "",
       "version_major": 2,
       "version_minor": 0
      },
      "text/plain": [
       "HBox(children=(IntProgress(value=0, max=156), HTML(value='')))"
      ]
     },
     "metadata": {},
     "output_type": "display_data"
    },
    {
     "name": "stdout",
     "output_type": "stream",
     "text": [
      "6 : train: 0.62648    valid: 0.66246\n"
     ]
    },
    {
     "data": {
      "application/vnd.jupyter.widget-view+json": {
       "model_id": "",
       "version_major": 2,
       "version_minor": 0
      },
      "text/plain": [
       "HBox(children=(IntProgress(value=0, max=781), HTML(value='')))"
      ]
     },
     "metadata": {},
     "output_type": "display_data"
    },
    {
     "name": "stdout",
     "output_type": "stream",
     "text": [
      "780/781; loss: 1.79925"
     ]
    },
    {
     "data": {
      "application/vnd.jupyter.widget-view+json": {
       "model_id": "",
       "version_major": 2,
       "version_minor": 0
      },
      "text/plain": [
       "HBox(children=(IntProgress(value=0, max=156), HTML(value='')))"
      ]
     },
     "metadata": {},
     "output_type": "display_data"
    },
    {
     "name": "stdout",
     "output_type": "stream",
     "text": [
      "7 : train: 0.64093    valid: 0.67598\n"
     ]
    },
    {
     "data": {
      "application/vnd.jupyter.widget-view+json": {
       "model_id": "",
       "version_major": 2,
       "version_minor": 0
      },
      "text/plain": [
       "HBox(children=(IntProgress(value=0, max=781), HTML(value='')))"
      ]
     },
     "metadata": {},
     "output_type": "display_data"
    },
    {
     "name": "stdout",
     "output_type": "stream",
     "text": [
      "781/781; loss: 1.78968"
     ]
    },
    {
     "data": {
      "application/vnd.jupyter.widget-view+json": {
       "model_id": "",
       "version_major": 2,
       "version_minor": 0
      },
      "text/plain": [
       "HBox(children=(IntProgress(value=0, max=156), HTML(value='')))"
      ]
     },
     "metadata": {},
     "output_type": "display_data"
    },
    {
     "name": "stdout",
     "output_type": "stream",
     "text": [
      "8 : train: 0.65805    valid: 0.73696\n"
     ]
    },
    {
     "data": {
      "application/vnd.jupyter.widget-view+json": {
       "model_id": "",
       "version_major": 2,
       "version_minor": 0
      },
      "text/plain": [
       "HBox(children=(IntProgress(value=0, max=781), HTML(value='')))"
      ]
     },
     "metadata": {},
     "output_type": "display_data"
    },
    {
     "name": "stdout",
     "output_type": "stream",
     "text": [
      "780/781; loss: 1.76631"
     ]
    },
    {
     "data": {
      "application/vnd.jupyter.widget-view+json": {
       "model_id": "",
       "version_major": 2,
       "version_minor": 0
      },
      "text/plain": [
       "HBox(children=(IntProgress(value=0, max=156), HTML(value='')))"
      ]
     },
     "metadata": {},
     "output_type": "display_data"
    },
    {
     "name": "stdout",
     "output_type": "stream",
     "text": [
      "9 : train: 0.67033    valid: 0.75821\n"
     ]
    },
    {
     "data": {
      "application/vnd.jupyter.widget-view+json": {
       "model_id": "",
       "version_major": 2,
       "version_minor": 0
      },
      "text/plain": [
       "HBox(children=(IntProgress(value=0, max=781), HTML(value='')))"
      ]
     },
     "metadata": {},
     "output_type": "display_data"
    },
    {
     "name": "stdout",
     "output_type": "stream",
     "text": [
      "780/781; loss: 1.75631"
     ]
    },
    {
     "data": {
      "application/vnd.jupyter.widget-view+json": {
       "model_id": "",
       "version_major": 2,
       "version_minor": 0
      },
      "text/plain": [
       "HBox(children=(IntProgress(value=0, max=156), HTML(value='')))"
      ]
     },
     "metadata": {},
     "output_type": "display_data"
    },
    {
     "name": "stdout",
     "output_type": "stream",
     "text": [
      "10 : train: 0.68070    valid: 0.74018\n"
     ]
    },
    {
     "data": {
      "application/vnd.jupyter.widget-view+json": {
       "model_id": "",
       "version_major": 2,
       "version_minor": 0
      },
      "text/plain": [
       "HBox(children=(IntProgress(value=0, max=781), HTML(value='')))"
      ]
     },
     "metadata": {},
     "output_type": "display_data"
    },
    {
     "name": "stdout",
     "output_type": "stream",
     "text": [
      "780/781; loss: 1.77816"
     ]
    },
    {
     "data": {
      "application/vnd.jupyter.widget-view+json": {
       "model_id": "",
       "version_major": 2,
       "version_minor": 0
      },
      "text/plain": [
       "HBox(children=(IntProgress(value=0, max=156), HTML(value='')))"
      ]
     },
     "metadata": {},
     "output_type": "display_data"
    },
    {
     "name": "stdout",
     "output_type": "stream",
     "text": [
      "11 : train: 0.69082    valid: 0.75180\n"
     ]
    },
    {
     "data": {
      "application/vnd.jupyter.widget-view+json": {
       "model_id": "",
       "version_major": 2,
       "version_minor": 0
      },
      "text/plain": [
       "HBox(children=(IntProgress(value=0, max=781), HTML(value='')))"
      ]
     },
     "metadata": {},
     "output_type": "display_data"
    },
    {
     "name": "stdout",
     "output_type": "stream",
     "text": [
      "781/781; loss: 1.74732"
     ]
    },
    {
     "data": {
      "application/vnd.jupyter.widget-view+json": {
       "model_id": "",
       "version_major": 2,
       "version_minor": 0
      },
      "text/plain": [
       "HBox(children=(IntProgress(value=0, max=156), HTML(value='')))"
      ]
     },
     "metadata": {},
     "output_type": "display_data"
    },
    {
     "name": "stdout",
     "output_type": "stream",
     "text": [
      "12 : train: 0.69719    valid: 0.76801\n"
     ]
    },
    {
     "data": {
      "application/vnd.jupyter.widget-view+json": {
       "model_id": "",
       "version_major": 2,
       "version_minor": 0
      },
      "text/plain": [
       "HBox(children=(IntProgress(value=0, max=781), HTML(value='')))"
      ]
     },
     "metadata": {},
     "output_type": "display_data"
    },
    {
     "name": "stdout",
     "output_type": "stream",
     "text": [
      "780/781; loss: 1.74791"
     ]
    },
    {
     "data": {
      "application/vnd.jupyter.widget-view+json": {
       "model_id": "",
       "version_major": 2,
       "version_minor": 0
      },
      "text/plain": [
       "HBox(children=(IntProgress(value=0, max=156), HTML(value='')))"
      ]
     },
     "metadata": {},
     "output_type": "display_data"
    },
    {
     "name": "stdout",
     "output_type": "stream",
     "text": [
      "13 : train: 0.69958    valid: 0.77464\n"
     ]
    },
    {
     "data": {
      "application/vnd.jupyter.widget-view+json": {
       "model_id": "",
       "version_major": 2,
       "version_minor": 0
      },
      "text/plain": [
       "HBox(children=(IntProgress(value=0, max=781), HTML(value='')))"
      ]
     },
     "metadata": {},
     "output_type": "display_data"
    },
    {
     "name": "stdout",
     "output_type": "stream",
     "text": [
      "780/781; loss: 1.75945"
     ]
    },
    {
     "data": {
      "application/vnd.jupyter.widget-view+json": {
       "model_id": "",
       "version_major": 2,
       "version_minor": 0
      },
      "text/plain": [
       "HBox(children=(IntProgress(value=0, max=156), HTML(value='')))"
      ]
     },
     "metadata": {},
     "output_type": "display_data"
    },
    {
     "name": "stdout",
     "output_type": "stream",
     "text": [
      "14 : train: 0.71067    valid: 0.75210\n"
     ]
    },
    {
     "data": {
      "application/vnd.jupyter.widget-view+json": {
       "model_id": "",
       "version_major": 2,
       "version_minor": 0
      },
      "text/plain": [
       "HBox(children=(IntProgress(value=0, max=781), HTML(value='')))"
      ]
     },
     "metadata": {},
     "output_type": "display_data"
    },
    {
     "name": "stdout",
     "output_type": "stream",
     "text": [
      "780/781; loss: 1.74080"
     ]
    },
    {
     "data": {
      "application/vnd.jupyter.widget-view+json": {
       "model_id": "",
       "version_major": 2,
       "version_minor": 0
      },
      "text/plain": [
       "HBox(children=(IntProgress(value=0, max=156), HTML(value='')))"
      ]
     },
     "metadata": {},
     "output_type": "display_data"
    },
    {
     "name": "stdout",
     "output_type": "stream",
     "text": [
      "15 : train: 0.71427    valid: 0.77895\n"
     ]
    },
    {
     "data": {
      "application/vnd.jupyter.widget-view+json": {
       "model_id": "",
       "version_major": 2,
       "version_minor": 0
      },
      "text/plain": [
       "HBox(children=(IntProgress(value=0, max=781), HTML(value='')))"
      ]
     },
     "metadata": {},
     "output_type": "display_data"
    },
    {
     "name": "stdout",
     "output_type": "stream",
     "text": [
      "781/781; loss: 1.73716"
     ]
    },
    {
     "data": {
      "application/vnd.jupyter.widget-view+json": {
       "model_id": "",
       "version_major": 2,
       "version_minor": 0
      },
      "text/plain": [
       "HBox(children=(IntProgress(value=0, max=156), HTML(value='')))"
      ]
     },
     "metadata": {},
     "output_type": "display_data"
    },
    {
     "name": "stdout",
     "output_type": "stream",
     "text": [
      "16 : train: 0.72133    valid: 0.77199\n"
     ]
    },
    {
     "data": {
      "application/vnd.jupyter.widget-view+json": {
       "model_id": "",
       "version_major": 2,
       "version_minor": 0
      },
      "text/plain": [
       "HBox(children=(IntProgress(value=0, max=781), HTML(value='')))"
      ]
     },
     "metadata": {},
     "output_type": "display_data"
    },
    {
     "name": "stdout",
     "output_type": "stream",
     "text": [
      "780/781; loss: 1.72051"
     ]
    },
    {
     "data": {
      "application/vnd.jupyter.widget-view+json": {
       "model_id": "",
       "version_major": 2,
       "version_minor": 0
      },
      "text/plain": [
       "HBox(children=(IntProgress(value=0, max=156), HTML(value='')))"
      ]
     },
     "metadata": {},
     "output_type": "display_data"
    },
    {
     "name": "stdout",
     "output_type": "stream",
     "text": [
      "17 : train: 0.72355    valid: 0.76162\n"
     ]
    },
    {
     "data": {
      "application/vnd.jupyter.widget-view+json": {
       "model_id": "",
       "version_major": 2,
       "version_minor": 0
      },
      "text/plain": [
       "HBox(children=(IntProgress(value=0, max=781), HTML(value='')))"
      ]
     },
     "metadata": {},
     "output_type": "display_data"
    },
    {
     "name": "stdout",
     "output_type": "stream",
     "text": [
      "780/781; loss: 1.70912"
     ]
    },
    {
     "data": {
      "application/vnd.jupyter.widget-view+json": {
       "model_id": "",
       "version_major": 2,
       "version_minor": 0
      },
      "text/plain": [
       "HBox(children=(IntProgress(value=0, max=156), HTML(value='')))"
      ]
     },
     "metadata": {},
     "output_type": "display_data"
    },
    {
     "name": "stdout",
     "output_type": "stream",
     "text": [
      "18 : train: 0.73089    valid: 0.79107\n"
     ]
    },
    {
     "data": {
      "application/vnd.jupyter.widget-view+json": {
       "model_id": "",
       "version_major": 2,
       "version_minor": 0
      },
      "text/plain": [
       "HBox(children=(IntProgress(value=0, max=781), HTML(value='')))"
      ]
     },
     "metadata": {},
     "output_type": "display_data"
    },
    {
     "name": "stdout",
     "output_type": "stream",
     "text": [
      "780/781; loss: 1.71038"
     ]
    },
    {
     "data": {
      "application/vnd.jupyter.widget-view+json": {
       "model_id": "",
       "version_major": 2,
       "version_minor": 0
      },
      "text/plain": [
       "HBox(children=(IntProgress(value=0, max=156), HTML(value='')))"
      ]
     },
     "metadata": {},
     "output_type": "display_data"
    },
    {
     "name": "stdout",
     "output_type": "stream",
     "text": [
      "19 : train: 0.73442    valid: 0.80078\n"
     ]
    },
    {
     "data": {
      "application/vnd.jupyter.widget-view+json": {
       "model_id": "",
       "version_major": 2,
       "version_minor": 0
      },
      "text/plain": [
       "HBox(children=(IntProgress(value=0, max=781), HTML(value='')))"
      ]
     },
     "metadata": {},
     "output_type": "display_data"
    },
    {
     "name": "stdout",
     "output_type": "stream",
     "text": [
      "781/781; loss: 1.73066"
     ]
    },
    {
     "data": {
      "application/vnd.jupyter.widget-view+json": {
       "model_id": "",
       "version_major": 2,
       "version_minor": 0
      },
      "text/plain": [
       "HBox(children=(IntProgress(value=0, max=156), HTML(value='')))"
      ]
     },
     "metadata": {},
     "output_type": "display_data"
    },
    {
     "name": "stdout",
     "output_type": "stream",
     "text": [
      "20 : train: 0.73797    valid: 0.79936\n"
     ]
    },
    {
     "data": {
      "application/vnd.jupyter.widget-view+json": {
       "model_id": "",
       "version_major": 2,
       "version_minor": 0
      },
      "text/plain": [
       "HBox(children=(IntProgress(value=0, max=781), HTML(value='')))"
      ]
     },
     "metadata": {},
     "output_type": "display_data"
    },
    {
     "name": "stdout",
     "output_type": "stream",
     "text": [
      "780/781; loss: 1.72101"
     ]
    },
    {
     "data": {
      "application/vnd.jupyter.widget-view+json": {
       "model_id": "",
       "version_major": 2,
       "version_minor": 0
      },
      "text/plain": [
       "HBox(children=(IntProgress(value=0, max=156), HTML(value='')))"
      ]
     },
     "metadata": {},
     "output_type": "display_data"
    },
    {
     "name": "stdout",
     "output_type": "stream",
     "text": [
      "21 : train: 0.74072    valid: 0.80108\n"
     ]
    },
    {
     "data": {
      "application/vnd.jupyter.widget-view+json": {
       "model_id": "",
       "version_major": 2,
       "version_minor": 0
      },
      "text/plain": [
       "HBox(children=(IntProgress(value=0, max=781), HTML(value='')))"
      ]
     },
     "metadata": {},
     "output_type": "display_data"
    },
    {
     "name": "stdout",
     "output_type": "stream",
     "text": [
      "780/781; loss: 1.71004"
     ]
    },
    {
     "data": {
      "application/vnd.jupyter.widget-view+json": {
       "model_id": "",
       "version_major": 2,
       "version_minor": 0
      },
      "text/plain": [
       "HBox(children=(IntProgress(value=0, max=156), HTML(value='')))"
      ]
     },
     "metadata": {},
     "output_type": "display_data"
    },
    {
     "name": "stdout",
     "output_type": "stream",
     "text": [
      "22 : train: 0.74474    valid: 0.81210\n"
     ]
    },
    {
     "data": {
      "application/vnd.jupyter.widget-view+json": {
       "model_id": "",
       "version_major": 2,
       "version_minor": 0
      },
      "text/plain": [
       "HBox(children=(IntProgress(value=0, max=781), HTML(value='')))"
      ]
     },
     "metadata": {},
     "output_type": "display_data"
    },
    {
     "name": "stdout",
     "output_type": "stream",
     "text": [
      "780/781; loss: 1.70108"
     ]
    },
    {
     "data": {
      "application/vnd.jupyter.widget-view+json": {
       "model_id": "",
       "version_major": 2,
       "version_minor": 0
      },
      "text/plain": [
       "HBox(children=(IntProgress(value=0, max=156), HTML(value='')))"
      ]
     },
     "metadata": {},
     "output_type": "display_data"
    },
    {
     "name": "stdout",
     "output_type": "stream",
     "text": [
      "23 : train: 0.74888    valid: 0.80339\n"
     ]
    },
    {
     "data": {
      "application/vnd.jupyter.widget-view+json": {
       "model_id": "",
       "version_major": 2,
       "version_minor": 0
      },
      "text/plain": [
       "HBox(children=(IntProgress(value=0, max=781), HTML(value='')))"
      ]
     },
     "metadata": {},
     "output_type": "display_data"
    },
    {
     "name": "stdout",
     "output_type": "stream",
     "text": [
      "781/781; loss: 1.70363"
     ]
    },
    {
     "data": {
      "application/vnd.jupyter.widget-view+json": {
       "model_id": "",
       "version_major": 2,
       "version_minor": 0
      },
      "text/plain": [
       "HBox(children=(IntProgress(value=0, max=156), HTML(value='')))"
      ]
     },
     "metadata": {},
     "output_type": "display_data"
    },
    {
     "name": "stdout",
     "output_type": "stream",
     "text": [
      "24 : train: 0.75446    valid: 0.79558\n"
     ]
    },
    {
     "data": {
      "application/vnd.jupyter.widget-view+json": {
       "model_id": "",
       "version_major": 2,
       "version_minor": 0
      },
      "text/plain": [
       "HBox(children=(IntProgress(value=0, max=781), HTML(value='')))"
      ]
     },
     "metadata": {},
     "output_type": "display_data"
    },
    {
     "name": "stdout",
     "output_type": "stream",
     "text": [
      "780/781; loss: 1.71364"
     ]
    },
    {
     "data": {
      "application/vnd.jupyter.widget-view+json": {
       "model_id": "",
       "version_major": 2,
       "version_minor": 0
      },
      "text/plain": [
       "HBox(children=(IntProgress(value=0, max=156), HTML(value='')))"
      ]
     },
     "metadata": {},
     "output_type": "display_data"
    },
    {
     "name": "stdout",
     "output_type": "stream",
     "text": [
      "25 : train: 0.75794    valid: 0.82712\n"
     ]
    },
    {
     "data": {
      "application/vnd.jupyter.widget-view+json": {
       "model_id": "",
       "version_major": 2,
       "version_minor": 0
      },
      "text/plain": [
       "HBox(children=(IntProgress(value=0, max=781), HTML(value='')))"
      ]
     },
     "metadata": {},
     "output_type": "display_data"
    },
    {
     "name": "stdout",
     "output_type": "stream",
     "text": [
      "780/781; loss: 1.69968"
     ]
    },
    {
     "data": {
      "application/vnd.jupyter.widget-view+json": {
       "model_id": "",
       "version_major": 2,
       "version_minor": 0
      },
      "text/plain": [
       "HBox(children=(IntProgress(value=0, max=156), HTML(value='')))"
      ]
     },
     "metadata": {},
     "output_type": "display_data"
    },
    {
     "name": "stdout",
     "output_type": "stream",
     "text": [
      "26 : train: 0.75982    valid: 0.81831\n"
     ]
    },
    {
     "data": {
      "application/vnd.jupyter.widget-view+json": {
       "model_id": "",
       "version_major": 2,
       "version_minor": 0
      },
      "text/plain": [
       "HBox(children=(IntProgress(value=0, max=781), HTML(value='')))"
      ]
     },
     "metadata": {},
     "output_type": "display_data"
    },
    {
     "name": "stdout",
     "output_type": "stream",
     "text": [
      "780/781; loss: 1.68469"
     ]
    },
    {
     "data": {
      "application/vnd.jupyter.widget-view+json": {
       "model_id": "",
       "version_major": 2,
       "version_minor": 0
      },
      "text/plain": [
       "HBox(children=(IntProgress(value=0, max=156), HTML(value='')))"
      ]
     },
     "metadata": {},
     "output_type": "display_data"
    },
    {
     "name": "stdout",
     "output_type": "stream",
     "text": [
      "27 : train: 0.76338    valid: 0.81450\n"
     ]
    },
    {
     "data": {
      "application/vnd.jupyter.widget-view+json": {
       "model_id": "",
       "version_major": 2,
       "version_minor": 0
      },
      "text/plain": [
       "HBox(children=(IntProgress(value=0, max=781), HTML(value='')))"
      ]
     },
     "metadata": {},
     "output_type": "display_data"
    },
    {
     "name": "stdout",
     "output_type": "stream",
     "text": [
      "781/781; loss: 1.68460"
     ]
    },
    {
     "data": {
      "application/vnd.jupyter.widget-view+json": {
       "model_id": "",
       "version_major": 2,
       "version_minor": 0
      },
      "text/plain": [
       "HBox(children=(IntProgress(value=0, max=156), HTML(value='')))"
      ]
     },
     "metadata": {},
     "output_type": "display_data"
    },
    {
     "name": "stdout",
     "output_type": "stream",
     "text": [
      "28 : train: 0.76688    valid: 0.83131\n"
     ]
    },
    {
     "data": {
      "application/vnd.jupyter.widget-view+json": {
       "model_id": "",
       "version_major": 2,
       "version_minor": 0
      },
      "text/plain": [
       "HBox(children=(IntProgress(value=0, max=781), HTML(value='')))"
      ]
     },
     "metadata": {},
     "output_type": "display_data"
    },
    {
     "name": "stdout",
     "output_type": "stream",
     "text": [
      "780/781; loss: 1.69400"
     ]
    },
    {
     "data": {
      "application/vnd.jupyter.widget-view+json": {
       "model_id": "",
       "version_major": 2,
       "version_minor": 0
      },
      "text/plain": [
       "HBox(children=(IntProgress(value=0, max=156), HTML(value='')))"
      ]
     },
     "metadata": {},
     "output_type": "display_data"
    },
    {
     "name": "stdout",
     "output_type": "stream",
     "text": [
      "29 : train: 0.76719    valid: 0.83684\n"
     ]
    },
    {
     "data": {
      "application/vnd.jupyter.widget-view+json": {
       "model_id": "",
       "version_major": 2,
       "version_minor": 0
      },
      "text/plain": [
       "HBox(children=(IntProgress(value=0, max=781), HTML(value='')))"
      ]
     },
     "metadata": {},
     "output_type": "display_data"
    },
    {
     "name": "stdout",
     "output_type": "stream",
     "text": [
      "780/781; loss: 1.67883"
     ]
    },
    {
     "data": {
      "application/vnd.jupyter.widget-view+json": {
       "model_id": "",
       "version_major": 2,
       "version_minor": 0
      },
      "text/plain": [
       "HBox(children=(IntProgress(value=0, max=156), HTML(value='')))"
      ]
     },
     "metadata": {},
     "output_type": "display_data"
    },
    {
     "name": "stdout",
     "output_type": "stream",
     "text": [
      "30 : train: 0.77149    valid: 0.83113\n"
     ]
    },
    {
     "data": {
      "application/vnd.jupyter.widget-view+json": {
       "model_id": "",
       "version_major": 2,
       "version_minor": 0
      },
      "text/plain": [
       "HBox(children=(IntProgress(value=0, max=781), HTML(value='')))"
      ]
     },
     "metadata": {},
     "output_type": "display_data"
    },
    {
     "name": "stdout",
     "output_type": "stream",
     "text": [
      "780/781; loss: 1.69062"
     ]
    },
    {
     "data": {
      "application/vnd.jupyter.widget-view+json": {
       "model_id": "",
       "version_major": 2,
       "version_minor": 0
      },
      "text/plain": [
       "HBox(children=(IntProgress(value=0, max=156), HTML(value='')))"
      ]
     },
     "metadata": {},
     "output_type": "display_data"
    },
    {
     "name": "stdout",
     "output_type": "stream",
     "text": [
      "31 : train: 0.77237    valid: 0.81340\n"
     ]
    },
    {
     "data": {
      "application/vnd.jupyter.widget-view+json": {
       "model_id": "",
       "version_major": 2,
       "version_minor": 0
      },
      "text/plain": [
       "HBox(children=(IntProgress(value=0, max=781), HTML(value='')))"
      ]
     },
     "metadata": {},
     "output_type": "display_data"
    },
    {
     "name": "stdout",
     "output_type": "stream",
     "text": [
      "781/781; loss: 1.68722"
     ]
    },
    {
     "data": {
      "application/vnd.jupyter.widget-view+json": {
       "model_id": "",
       "version_major": 2,
       "version_minor": 0
      },
      "text/plain": [
       "HBox(children=(IntProgress(value=0, max=156), HTML(value='')))"
      ]
     },
     "metadata": {},
     "output_type": "display_data"
    },
    {
     "name": "stdout",
     "output_type": "stream",
     "text": [
      "32 : train: 0.77296    valid: 0.82295\n"
     ]
    },
    {
     "data": {
      "application/vnd.jupyter.widget-view+json": {
       "model_id": "",
       "version_major": 2,
       "version_minor": 0
      },
      "text/plain": [
       "HBox(children=(IntProgress(value=0, max=781), HTML(value='')))"
      ]
     },
     "metadata": {},
     "output_type": "display_data"
    },
    {
     "name": "stdout",
     "output_type": "stream",
     "text": [
      "780/781; loss: 1.66626"
     ]
    },
    {
     "data": {
      "application/vnd.jupyter.widget-view+json": {
       "model_id": "",
       "version_major": 2,
       "version_minor": 0
      },
      "text/plain": [
       "HBox(children=(IntProgress(value=0, max=156), HTML(value='')))"
      ]
     },
     "metadata": {},
     "output_type": "display_data"
    },
    {
     "name": "stdout",
     "output_type": "stream",
     "text": [
      "33 : train: 0.77201    valid: 0.83644\n"
     ]
    },
    {
     "data": {
      "application/vnd.jupyter.widget-view+json": {
       "model_id": "",
       "version_major": 2,
       "version_minor": 0
      },
      "text/plain": [
       "HBox(children=(IntProgress(value=0, max=781), HTML(value='')))"
      ]
     },
     "metadata": {},
     "output_type": "display_data"
    },
    {
     "name": "stdout",
     "output_type": "stream",
     "text": [
      "780/781; loss: 1.66815"
     ]
    },
    {
     "data": {
      "application/vnd.jupyter.widget-view+json": {
       "model_id": "",
       "version_major": 2,
       "version_minor": 0
      },
      "text/plain": [
       "HBox(children=(IntProgress(value=0, max=156), HTML(value='')))"
      ]
     },
     "metadata": {},
     "output_type": "display_data"
    },
    {
     "name": "stdout",
     "output_type": "stream",
     "text": [
      "34 : train: 0.77981    valid: 0.83574\n"
     ]
    },
    {
     "data": {
      "application/vnd.jupyter.widget-view+json": {
       "model_id": "",
       "version_major": 2,
       "version_minor": 0
      },
      "text/plain": [
       "HBox(children=(IntProgress(value=0, max=781), HTML(value='')))"
      ]
     },
     "metadata": {},
     "output_type": "display_data"
    },
    {
     "name": "stdout",
     "output_type": "stream",
     "text": [
      "780/781; loss: 1.66366"
     ]
    },
    {
     "data": {
      "application/vnd.jupyter.widget-view+json": {
       "model_id": "",
       "version_major": 2,
       "version_minor": 0
      },
      "text/plain": [
       "HBox(children=(IntProgress(value=0, max=156), HTML(value='')))"
      ]
     },
     "metadata": {},
     "output_type": "display_data"
    },
    {
     "name": "stdout",
     "output_type": "stream",
     "text": [
      "35 : train: 0.78239    valid: 0.83994\n"
     ]
    },
    {
     "data": {
      "application/vnd.jupyter.widget-view+json": {
       "model_id": "",
       "version_major": 2,
       "version_minor": 0
      },
      "text/plain": [
       "HBox(children=(IntProgress(value=0, max=781), HTML(value='')))"
      ]
     },
     "metadata": {},
     "output_type": "display_data"
    },
    {
     "name": "stdout",
     "output_type": "stream",
     "text": [
      "781/781; loss: 1.66824"
     ]
    },
    {
     "data": {
      "application/vnd.jupyter.widget-view+json": {
       "model_id": "",
       "version_major": 2,
       "version_minor": 0
      },
      "text/plain": [
       "HBox(children=(IntProgress(value=0, max=156), HTML(value='')))"
      ]
     },
     "metadata": {},
     "output_type": "display_data"
    },
    {
     "name": "stdout",
     "output_type": "stream",
     "text": [
      "36 : train: 0.78425    valid: 0.83439\n"
     ]
    },
    {
     "data": {
      "application/vnd.jupyter.widget-view+json": {
       "model_id": "",
       "version_major": 2,
       "version_minor": 0
      },
      "text/plain": [
       "HBox(children=(IntProgress(value=0, max=781), HTML(value='')))"
      ]
     },
     "metadata": {},
     "output_type": "display_data"
    },
    {
     "name": "stdout",
     "output_type": "stream",
     "text": [
      "780/781; loss: 1.68355"
     ]
    },
    {
     "data": {
      "application/vnd.jupyter.widget-view+json": {
       "model_id": "",
       "version_major": 2,
       "version_minor": 0
      },
      "text/plain": [
       "HBox(children=(IntProgress(value=0, max=156), HTML(value='')))"
      ]
     },
     "metadata": {},
     "output_type": "display_data"
    },
    {
     "name": "stdout",
     "output_type": "stream",
     "text": [
      "37 : train: 0.78607    valid: 0.83163\n"
     ]
    },
    {
     "data": {
      "application/vnd.jupyter.widget-view+json": {
       "model_id": "",
       "version_major": 2,
       "version_minor": 0
      },
      "text/plain": [
       "HBox(children=(IntProgress(value=0, max=781), HTML(value='')))"
      ]
     },
     "metadata": {},
     "output_type": "display_data"
    },
    {
     "name": "stdout",
     "output_type": "stream",
     "text": [
      "780/781; loss: 1.66779"
     ]
    },
    {
     "data": {
      "application/vnd.jupyter.widget-view+json": {
       "model_id": "",
       "version_major": 2,
       "version_minor": 0
      },
      "text/plain": [
       "HBox(children=(IntProgress(value=0, max=156), HTML(value='')))"
      ]
     },
     "metadata": {},
     "output_type": "display_data"
    },
    {
     "name": "stdout",
     "output_type": "stream",
     "text": [
      "38 : train: 0.78877    valid: 0.84054\n"
     ]
    },
    {
     "data": {
      "application/vnd.jupyter.widget-view+json": {
       "model_id": "",
       "version_major": 2,
       "version_minor": 0
      },
      "text/plain": [
       "HBox(children=(IntProgress(value=0, max=781), HTML(value='')))"
      ]
     },
     "metadata": {},
     "output_type": "display_data"
    },
    {
     "name": "stdout",
     "output_type": "stream",
     "text": [
      "780/781; loss: 1.67145"
     ]
    },
    {
     "data": {
      "application/vnd.jupyter.widget-view+json": {
       "model_id": "",
       "version_major": 2,
       "version_minor": 0
      },
      "text/plain": [
       "HBox(children=(IntProgress(value=0, max=156), HTML(value='')))"
      ]
     },
     "metadata": {},
     "output_type": "display_data"
    },
    {
     "name": "stdout",
     "output_type": "stream",
     "text": [
      "39 : train: 0.78817    valid: 0.84185\n"
     ]
    },
    {
     "data": {
      "application/vnd.jupyter.widget-view+json": {
       "model_id": "",
       "version_major": 2,
       "version_minor": 0
      },
      "text/plain": [
       "HBox(children=(IntProgress(value=0, max=781), HTML(value='')))"
      ]
     },
     "metadata": {},
     "output_type": "display_data"
    },
    {
     "name": "stdout",
     "output_type": "stream",
     "text": [
      "781/781; loss: 1.66769"
     ]
    },
    {
     "data": {
      "application/vnd.jupyter.widget-view+json": {
       "model_id": "",
       "version_major": 2,
       "version_minor": 0
      },
      "text/plain": [
       "HBox(children=(IntProgress(value=0, max=156), HTML(value='')))"
      ]
     },
     "metadata": {},
     "output_type": "display_data"
    },
    {
     "name": "stdout",
     "output_type": "stream",
     "text": [
      "40 : train: 0.79280    valid: 0.83867\n"
     ]
    },
    {
     "data": {
      "application/vnd.jupyter.widget-view+json": {
       "model_id": "",
       "version_major": 2,
       "version_minor": 0
      },
      "text/plain": [
       "HBox(children=(IntProgress(value=0, max=781), HTML(value='')))"
      ]
     },
     "metadata": {},
     "output_type": "display_data"
    },
    {
     "name": "stdout",
     "output_type": "stream",
     "text": [
      "780/781; loss: 1.64584"
     ]
    },
    {
     "data": {
      "application/vnd.jupyter.widget-view+json": {
       "model_id": "",
       "version_major": 2,
       "version_minor": 0
      },
      "text/plain": [
       "HBox(children=(IntProgress(value=0, max=156), HTML(value='')))"
      ]
     },
     "metadata": {},
     "output_type": "display_data"
    },
    {
     "name": "stdout",
     "output_type": "stream",
     "text": [
      "41 : train: 0.79425    valid: 0.84996\n"
     ]
    },
    {
     "data": {
      "application/vnd.jupyter.widget-view+json": {
       "model_id": "",
       "version_major": 2,
       "version_minor": 0
      },
      "text/plain": [
       "HBox(children=(IntProgress(value=0, max=781), HTML(value='')))"
      ]
     },
     "metadata": {},
     "output_type": "display_data"
    },
    {
     "name": "stdout",
     "output_type": "stream",
     "text": [
      "780/781; loss: 1.63979"
     ]
    },
    {
     "data": {
      "application/vnd.jupyter.widget-view+json": {
       "model_id": "",
       "version_major": 2,
       "version_minor": 0
      },
      "text/plain": [
       "HBox(children=(IntProgress(value=0, max=156), HTML(value='')))"
      ]
     },
     "metadata": {},
     "output_type": "display_data"
    },
    {
     "name": "stdout",
     "output_type": "stream",
     "text": [
      "42 : train: 0.79681    valid: 0.84405\n"
     ]
    },
    {
     "data": {
      "application/vnd.jupyter.widget-view+json": {
       "model_id": "",
       "version_major": 2,
       "version_minor": 0
      },
      "text/plain": [
       "HBox(children=(IntProgress(value=0, max=781), HTML(value='')))"
      ]
     },
     "metadata": {},
     "output_type": "display_data"
    },
    {
     "name": "stdout",
     "output_type": "stream",
     "text": [
      "780/781; loss: 1.66696"
     ]
    },
    {
     "data": {
      "application/vnd.jupyter.widget-view+json": {
       "model_id": "",
       "version_major": 2,
       "version_minor": 0
      },
      "text/plain": [
       "HBox(children=(IntProgress(value=0, max=156), HTML(value='')))"
      ]
     },
     "metadata": {},
     "output_type": "display_data"
    },
    {
     "name": "stdout",
     "output_type": "stream",
     "text": [
      "43 : train: 0.79589    valid: 0.83924\n"
     ]
    },
    {
     "data": {
      "application/vnd.jupyter.widget-view+json": {
       "model_id": "",
       "version_major": 2,
       "version_minor": 0
      },
      "text/plain": [
       "HBox(children=(IntProgress(value=0, max=781), HTML(value='')))"
      ]
     },
     "metadata": {},
     "output_type": "display_data"
    },
    {
     "name": "stdout",
     "output_type": "stream",
     "text": [
      "781/781; loss: 1.66587"
     ]
    },
    {
     "data": {
      "application/vnd.jupyter.widget-view+json": {
       "model_id": "",
       "version_major": 2,
       "version_minor": 0
      },
      "text/plain": [
       "HBox(children=(IntProgress(value=0, max=156), HTML(value='')))"
      ]
     },
     "metadata": {},
     "output_type": "display_data"
    },
    {
     "name": "stdout",
     "output_type": "stream",
     "text": [
      "44 : train: 0.80025    valid: 0.84066\n"
     ]
    },
    {
     "data": {
      "application/vnd.jupyter.widget-view+json": {
       "model_id": "",
       "version_major": 2,
       "version_minor": 0
      },
      "text/plain": [
       "HBox(children=(IntProgress(value=0, max=781), HTML(value='')))"
      ]
     },
     "metadata": {},
     "output_type": "display_data"
    },
    {
     "name": "stdout",
     "output_type": "stream",
     "text": [
      "780/781; loss: 1.65950"
     ]
    },
    {
     "data": {
      "application/vnd.jupyter.widget-view+json": {
       "model_id": "",
       "version_major": 2,
       "version_minor": 0
      },
      "text/plain": [
       "HBox(children=(IntProgress(value=0, max=156), HTML(value='')))"
      ]
     },
     "metadata": {},
     "output_type": "display_data"
    },
    {
     "name": "stdout",
     "output_type": "stream",
     "text": [
      "45 : train: 0.80042    valid: 0.85457\n"
     ]
    },
    {
     "data": {
      "application/vnd.jupyter.widget-view+json": {
       "model_id": "",
       "version_major": 2,
       "version_minor": 0
      },
      "text/plain": [
       "HBox(children=(IntProgress(value=0, max=781), HTML(value='')))"
      ]
     },
     "metadata": {},
     "output_type": "display_data"
    },
    {
     "name": "stdout",
     "output_type": "stream",
     "text": [
      "780/781; loss: 1.66794"
     ]
    },
    {
     "data": {
      "application/vnd.jupyter.widget-view+json": {
       "model_id": "",
       "version_major": 2,
       "version_minor": 0
      },
      "text/plain": [
       "HBox(children=(IntProgress(value=0, max=156), HTML(value='')))"
      ]
     },
     "metadata": {},
     "output_type": "display_data"
    },
    {
     "name": "stdout",
     "output_type": "stream",
     "text": [
      "46 : train: 0.80292    valid: 0.85407\n"
     ]
    },
    {
     "data": {
      "application/vnd.jupyter.widget-view+json": {
       "model_id": "",
       "version_major": 2,
       "version_minor": 0
      },
      "text/plain": [
       "HBox(children=(IntProgress(value=0, max=781), HTML(value='')))"
      ]
     },
     "metadata": {},
     "output_type": "display_data"
    },
    {
     "name": "stdout",
     "output_type": "stream",
     "text": [
      "780/781; loss: 1.65794"
     ]
    },
    {
     "data": {
      "application/vnd.jupyter.widget-view+json": {
       "model_id": "",
       "version_major": 2,
       "version_minor": 0
      },
      "text/plain": [
       "HBox(children=(IntProgress(value=0, max=156), HTML(value='')))"
      ]
     },
     "metadata": {},
     "output_type": "display_data"
    },
    {
     "name": "stdout",
     "output_type": "stream",
     "text": [
      "47 : train: 0.80250    valid: 0.85116\n"
     ]
    },
    {
     "data": {
      "application/vnd.jupyter.widget-view+json": {
       "model_id": "",
       "version_major": 2,
       "version_minor": 0
      },
      "text/plain": [
       "HBox(children=(IntProgress(value=0, max=781), HTML(value='')))"
      ]
     },
     "metadata": {},
     "output_type": "display_data"
    },
    {
     "name": "stdout",
     "output_type": "stream",
     "text": [
      "781/781; loss: 1.66496"
     ]
    },
    {
     "data": {
      "application/vnd.jupyter.widget-view+json": {
       "model_id": "",
       "version_major": 2,
       "version_minor": 0
      },
      "text/plain": [
       "HBox(children=(IntProgress(value=0, max=156), HTML(value='')))"
      ]
     },
     "metadata": {},
     "output_type": "display_data"
    },
    {
     "name": "stdout",
     "output_type": "stream",
     "text": [
      "48 : train: 0.80435    valid: 0.84484\n"
     ]
    },
    {
     "data": {
      "application/vnd.jupyter.widget-view+json": {
       "model_id": "",
       "version_major": 2,
       "version_minor": 0
      },
      "text/plain": [
       "HBox(children=(IntProgress(value=0, max=781), HTML(value='')))"
      ]
     },
     "metadata": {},
     "output_type": "display_data"
    },
    {
     "name": "stdout",
     "output_type": "stream",
     "text": [
      "780/781; loss: 1.64663"
     ]
    },
    {
     "data": {
      "application/vnd.jupyter.widget-view+json": {
       "model_id": "",
       "version_major": 2,
       "version_minor": 0
      },
      "text/plain": [
       "HBox(children=(IntProgress(value=0, max=156), HTML(value='')))"
      ]
     },
     "metadata": {},
     "output_type": "display_data"
    },
    {
     "name": "stdout",
     "output_type": "stream",
     "text": [
      "49 : train: 0.80690    valid: 0.86228\n"
     ]
    },
    {
     "data": {
      "application/vnd.jupyter.widget-view+json": {
       "model_id": "",
       "version_major": 2,
       "version_minor": 0
      },
      "text/plain": [
       "HBox(children=(IntProgress(value=0, max=781), HTML(value='')))"
      ]
     },
     "metadata": {},
     "output_type": "display_data"
    },
    {
     "name": "stdout",
     "output_type": "stream",
     "text": [
      "780/781; loss: 1.64950"
     ]
    },
    {
     "data": {
      "application/vnd.jupyter.widget-view+json": {
       "model_id": "",
       "version_major": 2,
       "version_minor": 0
      },
      "text/plain": [
       "HBox(children=(IntProgress(value=0, max=156), HTML(value='')))"
      ]
     },
     "metadata": {},
     "output_type": "display_data"
    },
    {
     "name": "stdout",
     "output_type": "stream",
     "text": [
      "50 : train: 0.80946    valid: 0.85266\n"
     ]
    },
    {
     "data": {
      "application/vnd.jupyter.widget-view+json": {
       "model_id": "",
       "version_major": 2,
       "version_minor": 0
      },
      "text/plain": [
       "HBox(children=(IntProgress(value=0, max=781), HTML(value='')))"
      ]
     },
     "metadata": {},
     "output_type": "display_data"
    },
    {
     "name": "stdout",
     "output_type": "stream",
     "text": [
      "780/781; loss: 1.65158"
     ]
    },
    {
     "data": {
      "application/vnd.jupyter.widget-view+json": {
       "model_id": "",
       "version_major": 2,
       "version_minor": 0
      },
      "text/plain": [
       "HBox(children=(IntProgress(value=0, max=156), HTML(value='')))"
      ]
     },
     "metadata": {},
     "output_type": "display_data"
    },
    {
     "name": "stdout",
     "output_type": "stream",
     "text": [
      "51 : train: 0.80910    valid: 0.85447\n"
     ]
    },
    {
     "data": {
      "application/vnd.jupyter.widget-view+json": {
       "model_id": "",
       "version_major": 2,
       "version_minor": 0
      },
      "text/plain": [
       "HBox(children=(IntProgress(value=0, max=781), HTML(value='')))"
      ]
     },
     "metadata": {},
     "output_type": "display_data"
    },
    {
     "name": "stdout",
     "output_type": "stream",
     "text": [
      "781/781; loss: 1.65976"
     ]
    },
    {
     "data": {
      "application/vnd.jupyter.widget-view+json": {
       "model_id": "",
       "version_major": 2,
       "version_minor": 0
      },
      "text/plain": [
       "HBox(children=(IntProgress(value=0, max=156), HTML(value='')))"
      ]
     },
     "metadata": {},
     "output_type": "display_data"
    },
    {
     "name": "stdout",
     "output_type": "stream",
     "text": [
      "52 : train: 0.81184    valid: 0.86196\n"
     ]
    },
    {
     "data": {
      "application/vnd.jupyter.widget-view+json": {
       "model_id": "",
       "version_major": 2,
       "version_minor": 0
      },
      "text/plain": [
       "HBox(children=(IntProgress(value=0, max=781), HTML(value='')))"
      ]
     },
     "metadata": {},
     "output_type": "display_data"
    },
    {
     "name": "stdout",
     "output_type": "stream",
     "text": [
      "780/781; loss: 1.66171"
     ]
    },
    {
     "data": {
      "application/vnd.jupyter.widget-view+json": {
       "model_id": "",
       "version_major": 2,
       "version_minor": 0
      },
      "text/plain": [
       "HBox(children=(IntProgress(value=0, max=156), HTML(value='')))"
      ]
     },
     "metadata": {},
     "output_type": "display_data"
    },
    {
     "name": "stdout",
     "output_type": "stream",
     "text": [
      "53 : train: 0.81048    valid: 0.84736\n"
     ]
    },
    {
     "data": {
      "application/vnd.jupyter.widget-view+json": {
       "model_id": "",
       "version_major": 2,
       "version_minor": 0
      },
      "text/plain": [
       "HBox(children=(IntProgress(value=0, max=781), HTML(value='')))"
      ]
     },
     "metadata": {},
     "output_type": "display_data"
    },
    {
     "name": "stdout",
     "output_type": "stream",
     "text": [
      "780/781; loss: 1.64629"
     ]
    },
    {
     "data": {
      "application/vnd.jupyter.widget-view+json": {
       "model_id": "",
       "version_major": 2,
       "version_minor": 0
      },
      "text/plain": [
       "HBox(children=(IntProgress(value=0, max=156), HTML(value='')))"
      ]
     },
     "metadata": {},
     "output_type": "display_data"
    },
    {
     "name": "stdout",
     "output_type": "stream",
     "text": [
      "54 : train: 0.81436    valid: 0.86028\n"
     ]
    },
    {
     "data": {
      "application/vnd.jupyter.widget-view+json": {
       "model_id": "",
       "version_major": 2,
       "version_minor": 0
      },
      "text/plain": [
       "HBox(children=(IntProgress(value=0, max=781), HTML(value='')))"
      ]
     },
     "metadata": {},
     "output_type": "display_data"
    },
    {
     "name": "stdout",
     "output_type": "stream",
     "text": [
      "780/781; loss: 1.62881"
     ]
    },
    {
     "data": {
      "application/vnd.jupyter.widget-view+json": {
       "model_id": "",
       "version_major": 2,
       "version_minor": 0
      },
      "text/plain": [
       "HBox(children=(IntProgress(value=0, max=156), HTML(value='')))"
      ]
     },
     "metadata": {},
     "output_type": "display_data"
    },
    {
     "name": "stdout",
     "output_type": "stream",
     "text": [
      "55 : train: 0.80992    valid: 0.85627\n"
     ]
    },
    {
     "data": {
      "application/vnd.jupyter.widget-view+json": {
       "model_id": "",
       "version_major": 2,
       "version_minor": 0
      },
      "text/plain": [
       "HBox(children=(IntProgress(value=0, max=781), HTML(value='')))"
      ]
     },
     "metadata": {},
     "output_type": "display_data"
    },
    {
     "name": "stdout",
     "output_type": "stream",
     "text": [
      "781/781; loss: 1.63326"
     ]
    },
    {
     "data": {
      "application/vnd.jupyter.widget-view+json": {
       "model_id": "",
       "version_major": 2,
       "version_minor": 0
      },
      "text/plain": [
       "HBox(children=(IntProgress(value=0, max=156), HTML(value='')))"
      ]
     },
     "metadata": {},
     "output_type": "display_data"
    },
    {
     "name": "stdout",
     "output_type": "stream",
     "text": [
      "56 : train: 0.81370    valid: 0.85470\n"
     ]
    },
    {
     "data": {
      "application/vnd.jupyter.widget-view+json": {
       "model_id": "",
       "version_major": 2,
       "version_minor": 0
      },
      "text/plain": [
       "HBox(children=(IntProgress(value=0, max=781), HTML(value='')))"
      ]
     },
     "metadata": {},
     "output_type": "display_data"
    },
    {
     "name": "stdout",
     "output_type": "stream",
     "text": [
      "780/781; loss: 1.64281"
     ]
    },
    {
     "data": {
      "application/vnd.jupyter.widget-view+json": {
       "model_id": "",
       "version_major": 2,
       "version_minor": 0
      },
      "text/plain": [
       "HBox(children=(IntProgress(value=0, max=156), HTML(value='')))"
      ]
     },
     "metadata": {},
     "output_type": "display_data"
    },
    {
     "name": "stdout",
     "output_type": "stream",
     "text": [
      "57 : train: 0.81526    valid: 0.85306\n"
     ]
    },
    {
     "data": {
      "application/vnd.jupyter.widget-view+json": {
       "model_id": "",
       "version_major": 2,
       "version_minor": 0
      },
      "text/plain": [
       "HBox(children=(IntProgress(value=0, max=781), HTML(value='')))"
      ]
     },
     "metadata": {},
     "output_type": "display_data"
    },
    {
     "name": "stdout",
     "output_type": "stream",
     "text": [
      "780/781; loss: 1.64567"
     ]
    },
    {
     "data": {
      "application/vnd.jupyter.widget-view+json": {
       "model_id": "",
       "version_major": 2,
       "version_minor": 0
      },
      "text/plain": [
       "HBox(children=(IntProgress(value=0, max=156), HTML(value='')))"
      ]
     },
     "metadata": {},
     "output_type": "display_data"
    },
    {
     "name": "stdout",
     "output_type": "stream",
     "text": [
      "58 : train: 0.82110    valid: 0.84816\n"
     ]
    },
    {
     "data": {
      "application/vnd.jupyter.widget-view+json": {
       "model_id": "",
       "version_major": 2,
       "version_minor": 0
      },
      "text/plain": [
       "HBox(children=(IntProgress(value=0, max=781), HTML(value='')))"
      ]
     },
     "metadata": {},
     "output_type": "display_data"
    },
    {
     "name": "stdout",
     "output_type": "stream",
     "text": [
      "780/781; loss: 1.64068"
     ]
    },
    {
     "data": {
      "application/vnd.jupyter.widget-view+json": {
       "model_id": "",
       "version_major": 2,
       "version_minor": 0
      },
      "text/plain": [
       "HBox(children=(IntProgress(value=0, max=156), HTML(value='')))"
      ]
     },
     "metadata": {},
     "output_type": "display_data"
    },
    {
     "name": "stdout",
     "output_type": "stream",
     "text": [
      "59 : train: 0.81776    valid: 0.86338\n"
     ]
    },
    {
     "data": {
      "application/vnd.jupyter.widget-view+json": {
       "model_id": "",
       "version_major": 2,
       "version_minor": 0
      },
      "text/plain": [
       "HBox(children=(IntProgress(value=0, max=781), HTML(value='')))"
      ]
     },
     "metadata": {},
     "output_type": "display_data"
    },
    {
     "name": "stdout",
     "output_type": "stream",
     "text": [
      "781/781; loss: 1.63268"
     ]
    },
    {
     "data": {
      "application/vnd.jupyter.widget-view+json": {
       "model_id": "",
       "version_major": 2,
       "version_minor": 0
      },
      "text/plain": [
       "HBox(children=(IntProgress(value=0, max=156), HTML(value='')))"
      ]
     },
     "metadata": {},
     "output_type": "display_data"
    },
    {
     "name": "stdout",
     "output_type": "stream",
     "text": [
      "60 : train: 0.81903    valid: 0.87410\n"
     ]
    },
    {
     "data": {
      "application/vnd.jupyter.widget-view+json": {
       "model_id": "",
       "version_major": 2,
       "version_minor": 0
      },
      "text/plain": [
       "HBox(children=(IntProgress(value=0, max=781), HTML(value='')))"
      ]
     },
     "metadata": {},
     "output_type": "display_data"
    },
    {
     "name": "stdout",
     "output_type": "stream",
     "text": [
      "780/781; loss: 1.64095"
     ]
    },
    {
     "data": {
      "application/vnd.jupyter.widget-view+json": {
       "model_id": "",
       "version_major": 2,
       "version_minor": 0
      },
      "text/plain": [
       "HBox(children=(IntProgress(value=0, max=156), HTML(value='')))"
      ]
     },
     "metadata": {},
     "output_type": "display_data"
    },
    {
     "name": "stdout",
     "output_type": "stream",
     "text": [
      "61 : train: 0.82120    valid: 0.86548\n"
     ]
    },
    {
     "data": {
      "application/vnd.jupyter.widget-view+json": {
       "model_id": "",
       "version_major": 2,
       "version_minor": 0
      },
      "text/plain": [
       "HBox(children=(IntProgress(value=0, max=781), HTML(value='')))"
      ]
     },
     "metadata": {},
     "output_type": "display_data"
    },
    {
     "name": "stdout",
     "output_type": "stream",
     "text": [
      "780/781; loss: 1.62433"
     ]
    },
    {
     "data": {
      "application/vnd.jupyter.widget-view+json": {
       "model_id": "",
       "version_major": 2,
       "version_minor": 0
      },
      "text/plain": [
       "HBox(children=(IntProgress(value=0, max=156), HTML(value='')))"
      ]
     },
     "metadata": {},
     "output_type": "display_data"
    },
    {
     "name": "stdout",
     "output_type": "stream",
     "text": [
      "62 : train: 0.82244    valid: 0.86048\n"
     ]
    },
    {
     "data": {
      "application/vnd.jupyter.widget-view+json": {
       "model_id": "",
       "version_major": 2,
       "version_minor": 0
      },
      "text/plain": [
       "HBox(children=(IntProgress(value=0, max=781), HTML(value='')))"
      ]
     },
     "metadata": {},
     "output_type": "display_data"
    },
    {
     "name": "stdout",
     "output_type": "stream",
     "text": [
      "780/781; loss: 1.63275"
     ]
    },
    {
     "data": {
      "application/vnd.jupyter.widget-view+json": {
       "model_id": "",
       "version_major": 2,
       "version_minor": 0
      },
      "text/plain": [
       "HBox(children=(IntProgress(value=0, max=156), HTML(value='')))"
      ]
     },
     "metadata": {},
     "output_type": "display_data"
    },
    {
     "name": "stdout",
     "output_type": "stream",
     "text": [
      "63 : train: 0.82398    valid: 0.85897\n"
     ]
    },
    {
     "data": {
      "application/vnd.jupyter.widget-view+json": {
       "model_id": "",
       "version_major": 2,
       "version_minor": 0
      },
      "text/plain": [
       "HBox(children=(IntProgress(value=0, max=781), HTML(value='')))"
      ]
     },
     "metadata": {},
     "output_type": "display_data"
    },
    {
     "name": "stdout",
     "output_type": "stream",
     "text": [
      "781/781; loss: 1.63501"
     ]
    },
    {
     "data": {
      "application/vnd.jupyter.widget-view+json": {
       "model_id": "",
       "version_major": 2,
       "version_minor": 0
      },
      "text/plain": [
       "HBox(children=(IntProgress(value=0, max=156), HTML(value='')))"
      ]
     },
     "metadata": {},
     "output_type": "display_data"
    },
    {
     "name": "stdout",
     "output_type": "stream",
     "text": [
      "64 : train: 0.82457    valid: 0.87361\n"
     ]
    },
    {
     "data": {
      "application/vnd.jupyter.widget-view+json": {
       "model_id": "",
       "version_major": 2,
       "version_minor": 0
      },
      "text/plain": [
       "HBox(children=(IntProgress(value=0, max=781), HTML(value='')))"
      ]
     },
     "metadata": {},
     "output_type": "display_data"
    },
    {
     "name": "stdout",
     "output_type": "stream",
     "text": [
      "780/781; loss: 1.62755"
     ]
    },
    {
     "data": {
      "application/vnd.jupyter.widget-view+json": {
       "model_id": "",
       "version_major": 2,
       "version_minor": 0
      },
      "text/plain": [
       "HBox(children=(IntProgress(value=0, max=156), HTML(value='')))"
      ]
     },
     "metadata": {},
     "output_type": "display_data"
    },
    {
     "name": "stdout",
     "output_type": "stream",
     "text": [
      "65 : train: 0.82542    valid: 0.85557\n"
     ]
    },
    {
     "data": {
      "application/vnd.jupyter.widget-view+json": {
       "model_id": "",
       "version_major": 2,
       "version_minor": 0
      },
      "text/plain": [
       "HBox(children=(IntProgress(value=0, max=781), HTML(value='')))"
      ]
     },
     "metadata": {},
     "output_type": "display_data"
    },
    {
     "name": "stdout",
     "output_type": "stream",
     "text": [
      "780/781; loss: 1.62671"
     ]
    },
    {
     "data": {
      "application/vnd.jupyter.widget-view+json": {
       "model_id": "",
       "version_major": 2,
       "version_minor": 0
      },
      "text/plain": [
       "HBox(children=(IntProgress(value=0, max=156), HTML(value='')))"
      ]
     },
     "metadata": {},
     "output_type": "display_data"
    },
    {
     "name": "stdout",
     "output_type": "stream",
     "text": [
      "66 : train: 0.82913    valid: 0.87009\n"
     ]
    },
    {
     "data": {
      "application/vnd.jupyter.widget-view+json": {
       "model_id": "",
       "version_major": 2,
       "version_minor": 0
      },
      "text/plain": [
       "HBox(children=(IntProgress(value=0, max=781), HTML(value='')))"
      ]
     },
     "metadata": {},
     "output_type": "display_data"
    },
    {
     "name": "stdout",
     "output_type": "stream",
     "text": [
      "780/781; loss: 1.62549"
     ]
    },
    {
     "data": {
      "application/vnd.jupyter.widget-view+json": {
       "model_id": "",
       "version_major": 2,
       "version_minor": 0
      },
      "text/plain": [
       "HBox(children=(IntProgress(value=0, max=156), HTML(value='')))"
      ]
     },
     "metadata": {},
     "output_type": "display_data"
    },
    {
     "name": "stdout",
     "output_type": "stream",
     "text": [
      "67 : train: 0.82831    valid: 0.86739\n"
     ]
    },
    {
     "data": {
      "application/vnd.jupyter.widget-view+json": {
       "model_id": "",
       "version_major": 2,
       "version_minor": 0
      },
      "text/plain": [
       "HBox(children=(IntProgress(value=0, max=781), HTML(value='')))"
      ]
     },
     "metadata": {},
     "output_type": "display_data"
    },
    {
     "name": "stdout",
     "output_type": "stream",
     "text": [
      "781/781; loss: 1.62522"
     ]
    },
    {
     "data": {
      "application/vnd.jupyter.widget-view+json": {
       "model_id": "",
       "version_major": 2,
       "version_minor": 0
      },
      "text/plain": [
       "HBox(children=(IntProgress(value=0, max=156), HTML(value='')))"
      ]
     },
     "metadata": {},
     "output_type": "display_data"
    },
    {
     "name": "stdout",
     "output_type": "stream",
     "text": [
      "68 : train: 0.82755    valid: 0.86923\n"
     ]
    },
    {
     "data": {
      "application/vnd.jupyter.widget-view+json": {
       "model_id": "",
       "version_major": 2,
       "version_minor": 0
      },
      "text/plain": [
       "HBox(children=(IntProgress(value=0, max=781), HTML(value='')))"
      ]
     },
     "metadata": {},
     "output_type": "display_data"
    },
    {
     "name": "stdout",
     "output_type": "stream",
     "text": [
      "780/781; loss: 1.62961"
     ]
    },
    {
     "data": {
      "application/vnd.jupyter.widget-view+json": {
       "model_id": "",
       "version_major": 2,
       "version_minor": 0
      },
      "text/plain": [
       "HBox(children=(IntProgress(value=0, max=156), HTML(value='')))"
      ]
     },
     "metadata": {},
     "output_type": "display_data"
    },
    {
     "name": "stdout",
     "output_type": "stream",
     "text": [
      "69 : train: 0.82728    valid: 0.87360\n"
     ]
    },
    {
     "data": {
      "application/vnd.jupyter.widget-view+json": {
       "model_id": "",
       "version_major": 2,
       "version_minor": 0
      },
      "text/plain": [
       "HBox(children=(IntProgress(value=0, max=781), HTML(value='')))"
      ]
     },
     "metadata": {},
     "output_type": "display_data"
    },
    {
     "name": "stdout",
     "output_type": "stream",
     "text": [
      "780/781; loss: 1.62619"
     ]
    },
    {
     "data": {
      "application/vnd.jupyter.widget-view+json": {
       "model_id": "",
       "version_major": 2,
       "version_minor": 0
      },
      "text/plain": [
       "HBox(children=(IntProgress(value=0, max=156), HTML(value='')))"
      ]
     },
     "metadata": {},
     "output_type": "display_data"
    },
    {
     "name": "stdout",
     "output_type": "stream",
     "text": [
      "70 : train: 0.83249    valid: 0.87119\n"
     ]
    },
    {
     "data": {
      "application/vnd.jupyter.widget-view+json": {
       "model_id": "",
       "version_major": 2,
       "version_minor": 0
      },
      "text/plain": [
       "HBox(children=(IntProgress(value=0, max=781), HTML(value='')))"
      ]
     },
     "metadata": {},
     "output_type": "display_data"
    },
    {
     "name": "stdout",
     "output_type": "stream",
     "text": [
      "780/781; loss: 1.61944"
     ]
    },
    {
     "data": {
      "application/vnd.jupyter.widget-view+json": {
       "model_id": "",
       "version_major": 2,
       "version_minor": 0
      },
      "text/plain": [
       "HBox(children=(IntProgress(value=0, max=156), HTML(value='')))"
      ]
     },
     "metadata": {},
     "output_type": "display_data"
    },
    {
     "name": "stdout",
     "output_type": "stream",
     "text": [
      "71 : train: 0.83157    valid: 0.87129\n"
     ]
    },
    {
     "data": {
      "application/vnd.jupyter.widget-view+json": {
       "model_id": "",
       "version_major": 2,
       "version_minor": 0
      },
      "text/plain": [
       "HBox(children=(IntProgress(value=0, max=781), HTML(value='')))"
      ]
     },
     "metadata": {},
     "output_type": "display_data"
    },
    {
     "name": "stdout",
     "output_type": "stream",
     "text": [
      "781/781; loss: 1.62587"
     ]
    },
    {
     "data": {
      "application/vnd.jupyter.widget-view+json": {
       "model_id": "",
       "version_major": 2,
       "version_minor": 0
      },
      "text/plain": [
       "HBox(children=(IntProgress(value=0, max=156), HTML(value='')))"
      ]
     },
     "metadata": {},
     "output_type": "display_data"
    },
    {
     "name": "stdout",
     "output_type": "stream",
     "text": [
      "72 : train: 0.83394    valid: 0.86535\n"
     ]
    },
    {
     "data": {
      "application/vnd.jupyter.widget-view+json": {
       "model_id": "",
       "version_major": 2,
       "version_minor": 0
      },
      "text/plain": [
       "HBox(children=(IntProgress(value=0, max=781), HTML(value='')))"
      ]
     },
     "metadata": {},
     "output_type": "display_data"
    },
    {
     "name": "stdout",
     "output_type": "stream",
     "text": [
      "780/781; loss: 1.62508"
     ]
    },
    {
     "data": {
      "application/vnd.jupyter.widget-view+json": {
       "model_id": "",
       "version_major": 2,
       "version_minor": 0
      },
      "text/plain": [
       "HBox(children=(IntProgress(value=0, max=156), HTML(value='')))"
      ]
     },
     "metadata": {},
     "output_type": "display_data"
    },
    {
     "name": "stdout",
     "output_type": "stream",
     "text": [
      "73 : train: 0.83459    valid: 0.86218\n"
     ]
    },
    {
     "data": {
      "application/vnd.jupyter.widget-view+json": {
       "model_id": "",
       "version_major": 2,
       "version_minor": 0
      },
      "text/plain": [
       "HBox(children=(IntProgress(value=0, max=781), HTML(value='')))"
      ]
     },
     "metadata": {},
     "output_type": "display_data"
    },
    {
     "name": "stdout",
     "output_type": "stream",
     "text": [
      "780/781; loss: 1.60623"
     ]
    },
    {
     "data": {
      "application/vnd.jupyter.widget-view+json": {
       "model_id": "",
       "version_major": 2,
       "version_minor": 0
      },
      "text/plain": [
       "HBox(children=(IntProgress(value=0, max=156), HTML(value='')))"
      ]
     },
     "metadata": {},
     "output_type": "display_data"
    },
    {
     "name": "stdout",
     "output_type": "stream",
     "text": [
      "74 : train: 0.83711    valid: 0.88031\n"
     ]
    },
    {
     "data": {
      "application/vnd.jupyter.widget-view+json": {
       "model_id": "",
       "version_major": 2,
       "version_minor": 0
      },
      "text/plain": [
       "HBox(children=(IntProgress(value=0, max=781), HTML(value='')))"
      ]
     },
     "metadata": {},
     "output_type": "display_data"
    },
    {
     "name": "stdout",
     "output_type": "stream",
     "text": [
      "780/781; loss: 1.62818"
     ]
    },
    {
     "data": {
      "application/vnd.jupyter.widget-view+json": {
       "model_id": "",
       "version_major": 2,
       "version_minor": 0
      },
      "text/plain": [
       "HBox(children=(IntProgress(value=0, max=156), HTML(value='')))"
      ]
     },
     "metadata": {},
     "output_type": "display_data"
    },
    {
     "name": "stdout",
     "output_type": "stream",
     "text": [
      "75 : train: 0.83601    valid: 0.87560\n"
     ]
    },
    {
     "data": {
      "application/vnd.jupyter.widget-view+json": {
       "model_id": "",
       "version_major": 2,
       "version_minor": 0
      },
      "text/plain": [
       "HBox(children=(IntProgress(value=0, max=781), HTML(value='')))"
      ]
     },
     "metadata": {},
     "output_type": "display_data"
    },
    {
     "name": "stdout",
     "output_type": "stream",
     "text": [
      "781/781; loss: 1.62611"
     ]
    },
    {
     "data": {
      "application/vnd.jupyter.widget-view+json": {
       "model_id": "",
       "version_major": 2,
       "version_minor": 0
      },
      "text/plain": [
       "HBox(children=(IntProgress(value=0, max=156), HTML(value='')))"
      ]
     },
     "metadata": {},
     "output_type": "display_data"
    },
    {
     "name": "stdout",
     "output_type": "stream",
     "text": [
      "76 : train: 0.83965    valid: 0.87878\n"
     ]
    },
    {
     "data": {
      "application/vnd.jupyter.widget-view+json": {
       "model_id": "",
       "version_major": 2,
       "version_minor": 0
      },
      "text/plain": [
       "HBox(children=(IntProgress(value=0, max=781), HTML(value='')))"
      ]
     },
     "metadata": {},
     "output_type": "display_data"
    },
    {
     "name": "stdout",
     "output_type": "stream",
     "text": [
      "780/781; loss: 1.61574"
     ]
    },
    {
     "data": {
      "application/vnd.jupyter.widget-view+json": {
       "model_id": "",
       "version_major": 2,
       "version_minor": 0
      },
      "text/plain": [
       "HBox(children=(IntProgress(value=0, max=156), HTML(value='')))"
      ]
     },
     "metadata": {},
     "output_type": "display_data"
    },
    {
     "name": "stdout",
     "output_type": "stream",
     "text": [
      "77 : train: 0.83833    valid: 0.87620\n"
     ]
    },
    {
     "data": {
      "application/vnd.jupyter.widget-view+json": {
       "model_id": "",
       "version_major": 2,
       "version_minor": 0
      },
      "text/plain": [
       "HBox(children=(IntProgress(value=0, max=781), HTML(value='')))"
      ]
     },
     "metadata": {},
     "output_type": "display_data"
    },
    {
     "name": "stdout",
     "output_type": "stream",
     "text": [
      "780/781; loss: 1.61248"
     ]
    },
    {
     "data": {
      "application/vnd.jupyter.widget-view+json": {
       "model_id": "",
       "version_major": 2,
       "version_minor": 0
      },
      "text/plain": [
       "HBox(children=(IntProgress(value=0, max=156), HTML(value='')))"
      ]
     },
     "metadata": {},
     "output_type": "display_data"
    },
    {
     "name": "stdout",
     "output_type": "stream",
     "text": [
      "78 : train: 0.83779    valid: 0.87810\n"
     ]
    },
    {
     "data": {
      "application/vnd.jupyter.widget-view+json": {
       "model_id": "",
       "version_major": 2,
       "version_minor": 0
      },
      "text/plain": [
       "HBox(children=(IntProgress(value=0, max=781), HTML(value='')))"
      ]
     },
     "metadata": {},
     "output_type": "display_data"
    },
    {
     "name": "stdout",
     "output_type": "stream",
     "text": [
      "780/781; loss: 1.62406"
     ]
    },
    {
     "data": {
      "application/vnd.jupyter.widget-view+json": {
       "model_id": "",
       "version_major": 2,
       "version_minor": 0
      },
      "text/plain": [
       "HBox(children=(IntProgress(value=0, max=156), HTML(value='')))"
      ]
     },
     "metadata": {},
     "output_type": "display_data"
    },
    {
     "name": "stdout",
     "output_type": "stream",
     "text": [
      "79 : train: 0.83875    valid: 0.86398\n"
     ]
    },
    {
     "data": {
      "application/vnd.jupyter.widget-view+json": {
       "model_id": "",
       "version_major": 2,
       "version_minor": 0
      },
      "text/plain": [
       "HBox(children=(IntProgress(value=0, max=781), HTML(value='')))"
      ]
     },
     "metadata": {},
     "output_type": "display_data"
    },
    {
     "name": "stdout",
     "output_type": "stream",
     "text": [
      "781/781; loss: 1.62717"
     ]
    },
    {
     "data": {
      "application/vnd.jupyter.widget-view+json": {
       "model_id": "",
       "version_major": 2,
       "version_minor": 0
      },
      "text/plain": [
       "HBox(children=(IntProgress(value=0, max=156), HTML(value='')))"
      ]
     },
     "metadata": {},
     "output_type": "display_data"
    },
    {
     "name": "stdout",
     "output_type": "stream",
     "text": [
      "80 : train: 0.84007    valid: 0.87580\n"
     ]
    },
    {
     "data": {
      "application/vnd.jupyter.widget-view+json": {
       "model_id": "",
       "version_major": 2,
       "version_minor": 0
      },
      "text/plain": [
       "HBox(children=(IntProgress(value=0, max=781), HTML(value='')))"
      ]
     },
     "metadata": {},
     "output_type": "display_data"
    },
    {
     "name": "stdout",
     "output_type": "stream",
     "text": [
      "780/781; loss: 1.61838"
     ]
    },
    {
     "data": {
      "application/vnd.jupyter.widget-view+json": {
       "model_id": "",
       "version_major": 2,
       "version_minor": 0
      },
      "text/plain": [
       "HBox(children=(IntProgress(value=0, max=156), HTML(value='')))"
      ]
     },
     "metadata": {},
     "output_type": "display_data"
    },
    {
     "name": "stdout",
     "output_type": "stream",
     "text": [
      "81 : train: 0.83959    valid: 0.87119\n"
     ]
    },
    {
     "data": {
      "application/vnd.jupyter.widget-view+json": {
       "model_id": "9349c732d3384e35a73a566728893bb6",
       "version_major": 2,
       "version_minor": 0
      },
      "text/plain": [
       "HBox(children=(IntProgress(value=0, max=781), HTML(value='')))"
      ]
     },
     "metadata": {},
     "output_type": "display_data"
    },
    {
     "name": "stdout",
     "output_type": "stream",
     "text": [
      "170/781; loss: 1.60911"
     ]
    },
    {
     "ename": "KeyboardInterrupt",
     "evalue": "",
     "output_type": "error",
     "traceback": [
      "\u001b[0;31m---------------------------------------------------------------------------\u001b[0m",
      "\u001b[0;31mKeyboardInterrupt\u001b[0m                         Traceback (most recent call last)",
      "\u001b[0;32m<ipython-input-193-b27c8da43ae6>\u001b[0m in \u001b[0;36m<module>\u001b[0;34m\u001b[0m\n\u001b[1;32m      1\u001b[0m \u001b[0msgd\u001b[0m \u001b[0;34m=\u001b[0m \u001b[0mtorch\u001b[0m\u001b[0;34m.\u001b[0m\u001b[0moptim\u001b[0m\u001b[0;34m.\u001b[0m\u001b[0mSGD\u001b[0m\u001b[0;34m(\u001b[0m\u001b[0mclassifier\u001b[0m\u001b[0;34m.\u001b[0m\u001b[0mparameters\u001b[0m\u001b[0;34m(\u001b[0m\u001b[0;34m)\u001b[0m\u001b[0;34m,\u001b[0m \u001b[0mlr\u001b[0m\u001b[0;34m=\u001b[0m\u001b[0;36m0.2\u001b[0m\u001b[0;34m)\u001b[0m\u001b[0;34m\u001b[0m\u001b[0m\n\u001b[1;32m      2\u001b[0m \u001b[0;32mfor\u001b[0m \u001b[0mi\u001b[0m \u001b[0;32min\u001b[0m \u001b[0mtqdm\u001b[0m\u001b[0;34m.\u001b[0m\u001b[0mtqdm_notebook\u001b[0m\u001b[0;34m(\u001b[0m\u001b[0mrange\u001b[0m\u001b[0;34m(\u001b[0m\u001b[0;36m100\u001b[0m\u001b[0;34m)\u001b[0m\u001b[0;34m)\u001b[0m\u001b[0;34m:\u001b[0m\u001b[0;34m\u001b[0m\u001b[0m\n\u001b[0;32m----> 3\u001b[0;31m     \u001b[0mtrain_results\u001b[0m \u001b[0;34m+=\u001b[0m \u001b[0;34m[\u001b[0m\u001b[0mepoch\u001b[0m\u001b[0;34m(\u001b[0m\u001b[0mclassifier\u001b[0m\u001b[0;34m,\u001b[0m \u001b[0mdaliTrainIter\u001b[0m\u001b[0;34m,\u001b[0m \u001b[0mcrossEntropy\u001b[0m\u001b[0;34m,\u001b[0m \u001b[0msgd\u001b[0m\u001b[0;34m,\u001b[0m \u001b[0mdaliTrainPipe\u001b[0m\u001b[0;34m.\u001b[0m\u001b[0mepoch_size\u001b[0m\u001b[0;34m(\u001b[0m\u001b[0;34m\"Reader\"\u001b[0m\u001b[0;34m)\u001b[0m\u001b[0;34m//\u001b[0m\u001b[0mBATCH_SIZE\u001b[0m\u001b[0;34m)\u001b[0m\u001b[0;34m]\u001b[0m\u001b[0;34m\u001b[0m\u001b[0m\n\u001b[0m\u001b[1;32m      4\u001b[0m     \u001b[0mvalid_results\u001b[0m \u001b[0;34m+=\u001b[0m \u001b[0;34m[\u001b[0m\u001b[0mevaluate\u001b[0m\u001b[0;34m(\u001b[0m\u001b[0mclassifier\u001b[0m\u001b[0;34m,\u001b[0m \u001b[0mdaliValidIter\u001b[0m\u001b[0;34m,\u001b[0m \u001b[0mdaliValidPipe\u001b[0m\u001b[0;34m.\u001b[0m\u001b[0mepoch_size\u001b[0m\u001b[0;34m(\u001b[0m\u001b[0;34m\"Reader\"\u001b[0m\u001b[0;34m)\u001b[0m\u001b[0;34m//\u001b[0m\u001b[0mBATCH_SIZE\u001b[0m\u001b[0;34m)\u001b[0m\u001b[0;34m]\u001b[0m\u001b[0;34m\u001b[0m\u001b[0m\n\u001b[1;32m      5\u001b[0m     \u001b[0mprint\u001b[0m\u001b[0;34m(\u001b[0m\u001b[0;34m\"{2} : train: {0:.5f}    valid: {1:.5f}\"\u001b[0m\u001b[0;34m.\u001b[0m\u001b[0mformat\u001b[0m\u001b[0;34m(\u001b[0m\u001b[0mtrain_results\u001b[0m\u001b[0;34m[\u001b[0m\u001b[0;34m-\u001b[0m\u001b[0;36m1\u001b[0m\u001b[0;34m]\u001b[0m\u001b[0;34m,\u001b[0m \u001b[0mvalid_results\u001b[0m\u001b[0;34m[\u001b[0m\u001b[0;34m-\u001b[0m\u001b[0;36m1\u001b[0m\u001b[0;34m]\u001b[0m\u001b[0;34m,\u001b[0m \u001b[0mi\u001b[0m\u001b[0;34m+\u001b[0m\u001b[0;36m1\u001b[0m\u001b[0;34m)\u001b[0m\u001b[0;34m)\u001b[0m\u001b[0;34m\u001b[0m\u001b[0m\n",
      "\u001b[0;32m<ipython-input-187-f305a48fc587>\u001b[0m in \u001b[0;36mepoch\u001b[0;34m(model, data_loader, criterion, optimizer, epoch_size, printstep, loss_ema, loss_momentum)\u001b[0m\n\u001b[1;32m     17\u001b[0m \u001b[0;34m\u001b[0m\u001b[0m\n\u001b[1;32m     18\u001b[0m         \u001b[0moptimizer\u001b[0m\u001b[0;34m.\u001b[0m\u001b[0mzero_grad\u001b[0m\u001b[0;34m(\u001b[0m\u001b[0;34m)\u001b[0m\u001b[0;34m\u001b[0m\u001b[0m\n\u001b[0;32m---> 19\u001b[0;31m         \u001b[0mloss\u001b[0m\u001b[0;34m.\u001b[0m\u001b[0mbackward\u001b[0m\u001b[0;34m(\u001b[0m\u001b[0;34m)\u001b[0m\u001b[0;34m\u001b[0m\u001b[0m\n\u001b[0m\u001b[1;32m     20\u001b[0m         \u001b[0moptimizer\u001b[0m\u001b[0;34m.\u001b[0m\u001b[0mstep\u001b[0m\u001b[0;34m(\u001b[0m\u001b[0;34m)\u001b[0m\u001b[0;34m\u001b[0m\u001b[0m\n\u001b[1;32m     21\u001b[0m         \u001b[0;32mif\u001b[0m \u001b[0mi\u001b[0m\u001b[0;34m%\u001b[0m\u001b[0mprintstep\u001b[0m \u001b[0;34m==\u001b[0m \u001b[0;36m0\u001b[0m\u001b[0;34m:\u001b[0m\u001b[0;34m\u001b[0m\u001b[0m\n",
      "\u001b[0;32m/usr/local/lib/python3.5/dist-packages/torch/tensor.py\u001b[0m in \u001b[0;36mbackward\u001b[0;34m(self, gradient, retain_graph, create_graph)\u001b[0m\n\u001b[1;32m     91\u001b[0m                 \u001b[0mproducts\u001b[0m\u001b[0;34m.\u001b[0m \u001b[0mDefaults\u001b[0m \u001b[0mto\u001b[0m\u001b[0;31m \u001b[0m\u001b[0;31m`\u001b[0m\u001b[0;31m`\u001b[0m\u001b[0;32mFalse\u001b[0m\u001b[0;31m`\u001b[0m\u001b[0;31m`\u001b[0m\u001b[0;34m.\u001b[0m\u001b[0;34m\u001b[0m\u001b[0m\n\u001b[1;32m     92\u001b[0m         \"\"\"\n\u001b[0;32m---> 93\u001b[0;31m         \u001b[0mtorch\u001b[0m\u001b[0;34m.\u001b[0m\u001b[0mautograd\u001b[0m\u001b[0;34m.\u001b[0m\u001b[0mbackward\u001b[0m\u001b[0;34m(\u001b[0m\u001b[0mself\u001b[0m\u001b[0;34m,\u001b[0m \u001b[0mgradient\u001b[0m\u001b[0;34m,\u001b[0m \u001b[0mretain_graph\u001b[0m\u001b[0;34m,\u001b[0m \u001b[0mcreate_graph\u001b[0m\u001b[0;34m)\u001b[0m\u001b[0;34m\u001b[0m\u001b[0m\n\u001b[0m\u001b[1;32m     94\u001b[0m \u001b[0;34m\u001b[0m\u001b[0m\n\u001b[1;32m     95\u001b[0m     \u001b[0;32mdef\u001b[0m \u001b[0mregister_hook\u001b[0m\u001b[0;34m(\u001b[0m\u001b[0mself\u001b[0m\u001b[0;34m,\u001b[0m \u001b[0mhook\u001b[0m\u001b[0;34m)\u001b[0m\u001b[0;34m:\u001b[0m\u001b[0;34m\u001b[0m\u001b[0m\n",
      "\u001b[0;32m/usr/local/lib/python3.5/dist-packages/torch/autograd/__init__.py\u001b[0m in \u001b[0;36mbackward\u001b[0;34m(tensors, grad_tensors, retain_graph, create_graph, grad_variables)\u001b[0m\n\u001b[1;32m     88\u001b[0m     Variable._execution_engine.run_backward(\n\u001b[1;32m     89\u001b[0m         \u001b[0mtensors\u001b[0m\u001b[0;34m,\u001b[0m \u001b[0mgrad_tensors\u001b[0m\u001b[0;34m,\u001b[0m \u001b[0mretain_graph\u001b[0m\u001b[0;34m,\u001b[0m \u001b[0mcreate_graph\u001b[0m\u001b[0;34m,\u001b[0m\u001b[0;34m\u001b[0m\u001b[0m\n\u001b[0;32m---> 90\u001b[0;31m         allow_unreachable=True)  # allow_unreachable flag\n\u001b[0m\u001b[1;32m     91\u001b[0m \u001b[0;34m\u001b[0m\u001b[0m\n\u001b[1;32m     92\u001b[0m \u001b[0;34m\u001b[0m\u001b[0m\n",
      "\u001b[0;31mKeyboardInterrupt\u001b[0m: "
     ]
    }
   ],
   "source": [
    "sgd = torch.optim.SGD(classifier.parameters(), lr=0.2)\n",
    "for i in tqdm.tqdm_notebook(range(100)):\n",
    "    train_results += [epoch(classifier, daliTrainIter, crossEntropy, sgd, daliTrainPipe.epoch_size(\"Reader\")//BATCH_SIZE)]\n",
    "    valid_results += [evaluate(classifier, daliValidIter, daliValidPipe.epoch_size(\"Reader\")//BATCH_SIZE)]\n",
    "    print(\"{2} : train: {0:.5f}    valid: {1:.5f}\".format(train_results[-1], valid_results[-1], i+1))\n",
    "sgd = torch.optim.SGD(classifier.parameters(), lr=0.05)\n",
    "for i in tqdm.tqdm_notebook(range(40)):\n",
    "    train_results += [epoch(classifier, daliTrainIter, crossEntropy, sgd, daliTrainPipe.epoch_size(\"Reader\")//BATCH_SIZE)]\n",
    "    valid_results += [evaluate(classifier, daliValidIter, daliValidPipe.epoch_size(\"Reader\")//BATCH_SIZE)]\n",
    "    print(\"{2} : train: {0:.5f}    valid: {1:.5f}\".format(train_results[-1], valid_results[-1], i+1))\n",
    "sgd = torch.optim.SGD(classifier.parameters(), lr=0.01)\n",
    "for i in tqdm.tqdm_notebook(range(20)):\n",
    "    train_results += [epoch(classifier, daliTrainIter, crossEntropy, sgd, daliTrainPipe.epoch_size(\"Reader\")//BATCH_SIZE)]\n",
    "    valid_results += [evaluate(classifier, daliValidIter, daliValidPipe.epoch_size(\"Reader\")//BATCH_SIZE)]\n",
    "    print(\"{2} : train: {0:.5f}    valid: {1:.5f}\".format(train_results[-1], valid_results[-1], i+1))"
   ]
  },
  {
   "cell_type": "code",
   "execution_count": null,
   "metadata": {},
   "outputs": [],
   "source": [
    "for i in tqdm.tqdm_notebook(range(70)):\n",
    "    epoch(classifier, daliTrainIter, crossEntropy, adam, daliTrainPipe.epoch_size(\"Reader\")//BATCH_SIZE)\n",
    "    if (i+1) % 1 == 0:\n",
    "        train_results += [evaluate(classifier, daliTrainIter, daliTrainPipe.epoch_size(\"Reader\")//BATCH_SIZE)]\n",
    "    else:\n",
    "        train_results.append(train_results[-1])\n",
    "    valid_results += [evaluate(classifier, daliValidIter, daliValidPipe.epoch_size(\"Reader\")//BATCH_SIZE)]\n",
    "    print(\"{2} : train: {0:.5f}    valid: {1:.5f}\".format(train_results[-1], valid_results[-1], i+1))"
   ]
  },
  {
   "cell_type": "code",
   "execution_count": 155,
   "metadata": {},
   "outputs": [],
   "source": [
    "train_results_halfbottleneck = np.array(train_results)\n",
    "valid_results_halfbottleneck = np.array(valid_results)"
   ]
  },
  {
   "cell_type": "code",
   "execution_count": 52,
   "metadata": {},
   "outputs": [],
   "source": [
    "train_deeper = np.array(train_results)\n",
    "valid_deeper = np.array(valid_results)"
   ]
  },
  {
   "cell_type": "code",
   "execution_count": 51,
   "metadata": {},
   "outputs": [],
   "source": [
    "np.save(\"deeper\", [train_deeper, valid_deeper])"
   ]
  },
  {
   "cell_type": "code",
   "execution_count": 53,
   "metadata": {},
   "outputs": [
    {
     "data": {
      "image/png": "[encoded data removed]",
      "text/plain": [
       "<Figure size 1152x648 with 1 Axes>"
      ]
     },
     "metadata": {
      "needs_background": "light"
     },
     "output_type": "display_data"
    }
   ],
   "source": [
    "fig = plt.figure(figsize=(16, 9))\n",
    "plt.plot(np.arange(len(valid_deeper)), valid_deeper)\n",
    "plt.plot(np.arange(len(valid_sgd64d)), valid_sgd64d)\n",
    "plt.plot(np.arange(len(best_valid_results)), best_valid_results)\n",
    "plt.ylim(0.82, 0.92)\n",
    "fig.show()"
   ]
  },
  {
   "cell_type": "code",
   "execution_count": 44,
   "metadata": {},
   "outputs": [],
   "source": [
    "torch.save(classifier.state_dict(), \"state_dict916.tsd\")"
   ]
  },
  {
   "cell_type": "code",
   "execution_count": 207,
   "metadata": {},
   "outputs": [
    {
     "data": {
      "image/png": "[encoded data removed]",
      "text/plain": [
       "<Figure size 1152x648 with 1 Axes>"
      ]
     },
     "metadata": {
      "needs_background": "light"
     },
     "output_type": "display_data"
    }
   ],
   "source": [
    "fig = plt.figure(figsize=(16, 9))\n",
    "plt.plot(best_train_results, best_valid_results)\n",
    "plt.ylim(0.72, 0.92)\n",
    "plt.xlim(0.72, 0.92)\n",
    "fig.show()"
   ]
  },
  {
   "cell_type": "code",
   "execution_count": 205,
   "metadata": {},
   "outputs": [],
   "source": [
    "np.save(\"best\", [best_train_results, best_valid_results])\n",
    "np.save(\"halfbottleneck\", [train_results_halfbottleneck, valid_results_halfbottleneck])"
   ]
  },
  {
   "cell_type": "code",
   "execution_count": null,
   "metadata": {},
   "outputs": [],
   "source": [
    "train_deeper = np.load(\"deeper.npy\")[0]\n",
    "valid_deeper = np.load(\"deeper.npy\")[1]"
   ]
  },
  {
   "cell_type": "code",
   "execution_count": 156,
   "metadata": {},
   "outputs": [
    {
     "name": "stderr",
     "output_type": "stream",
     "text": [
      "/usr/local/lib/python3.5/dist-packages/matplotlib/figure.py:448: UserWarning: Matplotlib is currently using module://ipykernel.pylab.backend_inline, which is a non-GUI backend, so cannot show the figure.\n",
      "  % get_backend())\n"
     ]
    },
    {
     "data": {
      "image/png": "[encoded data removed]",
      "text/plain": [
       "<Figure size 1152x648 with 1 Axes>"
      ]
     },
     "metadata": {
      "needs_background": "light"
     },
     "output_type": "display_data"
    }
   ],
   "source": [
    "fig = plt.figure(figsize=(16, 9))\n",
    "plt.plot(np.arange(len(train_results)), train_results)\n",
    "plt.plot(np.arange(len(valid_results)), valid_results)\n",
    "plt.ylim(0.3, 0.86)\n",
    "fig.show()"
   ]
  },
  {
   "cell_type": "code",
   "execution_count": 119,
   "metadata": {},
   "outputs": [
    {
     "data": {
      "image/png": "[encoded data removed]",
      "text/plain": [
       "<Figure size 1152x648 with 1 Axes>"
      ]
     },
     "metadata": {
      "needs_background": "light"
     },
     "output_type": "display_data"
    }
   ],
   "source": [
    "# VGG: (32,32); [64, 128, 256, 512]; 5*pooling; [512,10]\n",
    "\n",
    "fig = plt.figure(figsize=(16, 9))\n",
    "plt.plot(np.arange(len(train_results)), train_results)\n",
    "plt.plot(np.arange(len(valid_results)), valid_results)\n",
    "plt.ylim(0.1, 0.86)\n",
    "fig.show()"
   ]
  },
  {
   "cell_type": "code",
   "execution_count": 61,
   "metadata": {},
   "outputs": [
    {
     "data": {
      "image/png": "[encoded data removed]",
      "text/plain": [
       "<Figure size 1152x648 with 1 Axes>"
      ]
     },
     "metadata": {
      "needs_background": "light"
     },
     "output_type": "display_data"
    }
   ],
   "source": [
    "# dashed skip connections\n",
    "\n",
    "fig = plt.figure(figsize=(16, 9))\n",
    "plt.plot(np.arange(len(train_results)), train_results)\n",
    "plt.plot(np.arange(len(valid_results)), valid_results)\n",
    "plt.ylim(0.3, 0.86)\n",
    "fig.show()"
   ]
  },
  {
   "cell_type": "code",
   "execution_count": 16,
   "metadata": {},
   "outputs": [
    {
     "data": {
      "image/png": "[encoded data removed]",
      "text/plain": [
       "<Figure size 1152x648 with 1 Axes>"
      ]
     },
     "metadata": {
      "needs_background": "light"
     },
     "output_type": "display_data"
    }
   ],
   "source": [
    "# BN_MOMENTUM = 0.01\n",
    "fig = plt.figure(figsize=(16, 9))\n",
    "plt.plot(np.arange(len(train_results)), train_results)\n",
    "plt.plot(np.arange(len(valid_results)), valid_results)\n",
    "plt.ylim(0.3, 0.86)\n",
    "fig.show()"
   ]
  },
  {
   "cell_type": "code",
   "execution_count": 43,
   "metadata": {},
   "outputs": [],
   "source": [
    "train_sgd64 = np.array(train_results[:-2])\n",
    "valid_sgd64 = np.array(valid_results[:-2])"
   ]
  },
  {
   "cell_type": "code",
   "execution_count": 73,
   "metadata": {},
   "outputs": [
    {
     "data": {
      "image/png": "[encoded data removed]",
      "text/plain": [
       "<Figure size 1152x648 with 1 Axes>"
      ]
     },
     "metadata": {
      "needs_background": "light"
     },
     "output_type": "display_data"
    }
   ],
   "source": [
    "# 4 first residual units\n",
    "\n",
    "fig = plt.figure(figsize=(16, 9))\n",
    "plt.plot(np.arange(len(best_train_results)), best_train_results)\n",
    "plt.plot(np.arange(len(best_valid_results)), best_valid_results)\n",
    "plt.ylim(0.3, 0.92)\n",
    "fig.show()"
   ]
  },
  {
   "cell_type": "code",
   "execution_count": 22,
   "metadata": {},
   "outputs": [
    {
     "data": {
      "image/png": "[encoded data removed]",
      "text/plain": [
       "<Figure size 1152x648 with 1 Axes>"
      ]
     },
     "metadata": {
      "needs_background": "light"
     },
     "output_type": "display_data"
    }
   ],
   "source": [
    "#default\n",
    "\n",
    "fig = plt.figure(figsize=(16, 9))\n",
    "\n",
    "plt.plot(np.arange(len(best_train_results)), best_train_results)\n",
    "plt.plot(np.arange(len(best_valid_results)), best_valid_results)\n",
    "plt.ylim(0.3, 0.86)\n",
    "fig.show()"
   ]
  },
  {
   "cell_type": "code",
   "execution_count": 60,
   "metadata": {},
   "outputs": [
    {
     "data": {
      "image/png": "[encoded data removed]",
      "text/plain": [
       "<Figure size 1152x648 with 1 Axes>"
      ]
     },
     "metadata": {
      "needs_background": "light"
     },
     "output_type": "display_data"
    }
   ],
   "source": [
    "# first kernel 5\n",
    "fig = plt.figure(figsize=(16, 9))\n",
    "plt.plot(np.arange(len(train_results)), train_results)\n",
    "plt.plot(np.arange(len(valid_results)), valid_results)\n",
    "plt.ylim(0.3, 0.85)\n",
    "fig.show()"
   ]
  },
  {
   "cell_type": "code",
   "execution_count": null,
   "metadata": {},
   "outputs": [],
   "source": []
  },
  {
   "cell_type": "code",
   "execution_count": 38,
   "metadata": {},
   "outputs": [
    {
     "name": "stdout",
     "output_type": "stream",
     "text": [
      "dog\n",
      "truck\n",
      "airplane\n",
      "cat\n",
      "cat\n",
      "cat\n",
      "truck\n",
      "ship\n",
      "truck\n",
      "truck\n",
      "truck\n",
      "dog\n",
      "automobile\n",
      "cat\n",
      "airplane\n",
      "dog\n"
     ]
    },
    {
     "data": {
      "image/png": "[encoded data removed]",
      "text/plain": [
       "<Figure size 1152x1152 with 16 Axes>"
      ]
     },
     "metadata": {
      "needs_background": "light"
     },
     "output_type": "display_data"
    }
   ],
   "source": [
    "fig=plt.figure(figsize=(16, 16))\n",
    "for i, batch in enumerate(daliTrainIter):\n",
    "    imgs, lbls = batch[0]\n",
    "    #print(imgs[0][0].shape)\n",
    "    #print(lbls[0].shape)\n",
    "    img = imgs[0][0].cpu().numpy()\n",
    "    #print(img)\n",
    "    fig.add_subplot(5, 4, i+1)\n",
    "    plt.imshow(img)\n",
    "    print(LABEL_MAP[int(lbls[0][0].item())])\n",
    "    #imgs = batch[0][\"data\"]1\n",
    "    #lbls = batch[0][\"label\"].squeeze().cuda().long()\n",
    "    if i == 15:\n",
    "        break"
   ]
  },
  {
   "cell_type": "code",
   "execution_count": 43,
   "metadata": {},
   "outputs": [
    {
     "name": "stdout",
     "output_type": "stream",
     "text": [
      "dog\n",
      "truck\n",
      "airplane\n",
      "cat\n",
      "cat\n",
      "cat\n",
      "truck\n",
      "ship\n",
      "truck\n",
      "truck\n",
      "truck\n",
      "dog\n",
      "automobile\n",
      "cat\n",
      "airplane\n",
      "dog\n"
     ]
    },
    {
     "data": {
      "image/png": "[encoded data removed]",
      "text/plain": [
       "<Figure size 1152x1152 with 16 Axes>"
      ]
     },
     "metadata": {
      "needs_background": "light"
     },
     "output_type": "display_data"
    }
   ],
   "source": [
    "fig=plt.figure(figsize=(16, 16))\n",
    "for i, batch in enumerate(daliTrainIter):\n",
    "    imgs, lbls = batch[0]\n",
    "    #print(imgs[0][0].shape)\n",
    "    #print(lbls[0].shape)\n",
    "    img = imgs[0][0].cpu().numpy()\n",
    "    #print(img)\n",
    "    fig.add_subplot(5, 4, i+1)\n",
    "    plt.imshow(img)\n",
    "    print(LABEL_MAP[int(lbls[0][0].item())])\n",
    "    #imgs = batch[0][\"data\"]1\n",
    "    #lbls = batch[0][\"label\"].squeeze().cuda().long()\n",
    "    if i == 15:\n",
    "        break"
   ]
  },
  {
   "cell_type": "code",
   "execution_count": null,
   "metadata": {},
   "outputs": [],
   "source": []
  },
  {
   "cell_type": "code",
   "execution_count": 15,
   "metadata": {},
   "outputs": [],
   "source": [
    "CONV_SIZES = [16, 32, 64, 128]\n",
    "FULLY_SIZES = [CONV_SIZES[-1]*4*4, 1024]\n",
    "class Classifier(nn.Module):\n",
    "    def __init__(self):\n",
    "        super(Classifier, self).__init__()\n",
    "        convs = []\n",
    "        fully = []\n",
    "        convs.append(nn.Conv2d(3, CONV_SIZES[0], 3, padding=2))\n",
    "        convs.append(nn.BatchNorm2d(CONV_SIZES[0], momentum=BN_MOMENTUM))\n",
    "        convs.append(Activation())\n",
    "        convs.append(ResidualUnit(CONV_SIZES[0], CONV_SIZES[0]))\n",
    "        convs.append(ResidualUnit(CONV_SIZES[0], CONV_SIZES[0]))\n",
    "        \n",
    "        convs.append(nn.Conv2d(CONV_SIZES[0], CONV_SIZES[1], CONV_KERNEL, padding=(1, 1)))\n",
    "        convs.append(nn.BatchNorm2d(CONV_SIZES[1], momentum=BN_MOMENTUM))\n",
    "        convs.append(Pooling((3,3), stride=(2,2), padding=(1,1)))\n",
    "        #convs.append(Pooling((2,2), stride=(2,2)))#, padding=(1,1)))\n",
    "        convs.append(Activation())\n",
    "        convs.append(ResidualUnit(CONV_SIZES[1], CONV_SIZES[1]))\n",
    "        convs.append(ResidualUnit(CONV_SIZES[1], CONV_SIZES[1]))\n",
    "        \n",
    "        convs.append(nn.Conv2d(CONV_SIZES[1], CONV_SIZES[2], CONV_KERNEL, padding=(1, 1)))\n",
    "        convs.append(nn.BatchNorm2d(CONV_SIZES[2], momentum=BN_MOMENTUM))\n",
    "        convs.append(Pooling((3,3), stride=(2,2), padding=(1,1)))\n",
    "        #convs.append(Pooling((2,2), stride=(2,2)))#, padding=(1,1)))\n",
    "        convs.append(Activation())\n",
    "        convs.append(ResidualUnit(CONV_SIZES[2], CONV_SIZES[2]))\n",
    "        convs.append(ResidualUnit(CONV_SIZES[2], CONV_SIZES[2]))\n",
    "        \n",
    "        convs.append(nn.Conv2d(CONV_SIZES[2], CONV_SIZES[3], CONV_KERNEL, padding=(1, 1)))\n",
    "        convs.append(nn.BatchNorm2d(CONV_SIZES[3], momentum=BN_MOMENTUM))\n",
    "        convs.append(Pooling((3,3), stride=(2,2), padding=(1,1)))\n",
    "        #convs.append(Pooling((2,2), stride=(2,2)))#, padding=(1,1)))\n",
    "        convs.append(Activation())\n",
    "        #convs.append(ResidualUnit(CONV_SIZES[3]))\n",
    "        #convs.append(ResidualUnit(CONV_SIZES[3]))\n",
    "        \n",
    "        fully.append(nn.Linear(FULLY_SIZES[0], FULLY_SIZES[1]))\n",
    "        fully.append(nn.BatchNorm1d(FULLY_SIZES[1]))\n",
    "        fully.append(Activation())\n",
    "        fully.append(nn.Linear(FULLY_SIZES[1], 10))\n",
    "        fully.append(nn.Softmax(dim=1))\n",
    "        \n",
    "        self.convs = nn.ModuleList(convs)\n",
    "        self.fully = nn.ModuleList(fully)\n",
    "        self.eval()\n",
    "    \n",
    "    def forward(self, x):\n",
    "        for layer in self.convs:\n",
    "            x = layer(x)\n",
    "        x = x.view(x.shape[0], FULLY_SIZES[0])\n",
    "        for layer in self.fully:\n",
    "            x = layer(x)\n",
    "        return x"
   ]
  },
  {
   "cell_type": "code",
   "execution_count": 146,
   "metadata": {},
   "outputs": [],
   "source": [
    "# https://github.com/geifmany/cifar-vgg/blob/master/cifar10vgg.py\n",
    "\n",
    "Activation = nn.ReLU\n",
    "Pooling = nn.MaxPool2d\n",
    "\n",
    "class ConvLayer(nn.Module):\n",
    "    def __init__(self, in_C, out_C, k=CONV_KERNEL, dropout=0.5, **kwargs):\n",
    "        super(ConvLayer, self).__init__()\n",
    "        self.conv = nn.Conv2d(in_C, out_C, k, padding=1, **kwargs)\n",
    "        self.activ = Activation()\n",
    "        self.bn = nn.BatchNorm2d(out_C, momentum=BN_MOMENTUM)\n",
    "        self.dropout = nn.Dropout2d(dropout) if dropout > 0 else None\n",
    "        \n",
    "    def forward(self, x):\n",
    "        x = self.conv(x)\n",
    "        x = self.activ(x)\n",
    "        x = self.bn(x)\n",
    "        if self.dropout:\n",
    "            x = self.dropout(x)\n",
    "        return x\n",
    "        \n",
    "CONV_SIZES = [64, 128, 256, 512]\n",
    "LAST_SIZE = 1\n",
    "FULLY_SIZES = [CONV_SIZES[-1]*LAST_SIZE*LAST_SIZE, 512]\n",
    "class VGG(nn.Module):\n",
    "    def __init__(self):\n",
    "        super(VGG, self).__init__()\n",
    "        convs = []\n",
    "        fully = []\n",
    "        \n",
    "        convs.append(ConvLayer(3, CONV_SIZES[0], dropout=0.3))\n",
    "        convs.append(ConvLayer(CONV_SIZES[0], CONV_SIZES[0], dropout=0))\n",
    "        convs.append(Pooling(2, stride=2))\n",
    "        \n",
    "        convs.append(ConvLayer(CONV_SIZES[0], CONV_SIZES[1], dropout=0.4))\n",
    "        convs.append(ConvLayer(CONV_SIZES[1], CONV_SIZES[1], dropout=0))\n",
    "        convs.append(Pooling(2, stride=2))\n",
    "        \n",
    "        convs.append(ConvLayer(CONV_SIZES[1], CONV_SIZES[2], dropout=0.4))\n",
    "        convs.append(ConvLayer(CONV_SIZES[2], CONV_SIZES[2], dropout=0.4))\n",
    "        convs.append(ConvLayer(CONV_SIZES[2], CONV_SIZES[2], dropout=0))\n",
    "        convs.append(Pooling(2, stride=2))\n",
    "        \n",
    "        convs.append(ConvLayer(CONV_SIZES[2], CONV_SIZES[3], dropout=0.4))\n",
    "        convs.append(ConvLayer(CONV_SIZES[3], CONV_SIZES[3], dropout=0.4))\n",
    "        convs.append(ConvLayer(CONV_SIZES[3], CONV_SIZES[3], dropout=0))\n",
    "        convs.append(Pooling(2, stride=2))\n",
    "        \n",
    "        convs.append(ConvLayer(CONV_SIZES[3], CONV_SIZES[3], dropout=0.4))\n",
    "        convs.append(ConvLayer(CONV_SIZES[3], CONV_SIZES[3], dropout=0.4))\n",
    "        convs.append(ConvLayer(CONV_SIZES[3], CONV_SIZES[3], dropout=0))\n",
    "        convs.append(Pooling(2, stride=2))\n",
    "        convs.append(nn.Dropout2d(0.5))\n",
    "        \n",
    "        fully.append(nn.Linear(FULLY_SIZES[0], FULLY_SIZES[1]))\n",
    "        fully.append(Activation())\n",
    "        fully.append(nn.BatchNorm1d(FULLY_SIZES[1]))\n",
    "        fully.append(nn.Dropout(0.5))\n",
    "        fully.append(nn.Linear(FULLY_SIZES[1], 10))\n",
    "        fully.append(nn.Softmax(dim=1))\n",
    "        \n",
    "        self.convs = nn.ModuleList(convs)\n",
    "        self.fully = nn.ModuleList(fully)\n",
    "        self.eval()\n",
    "    \n",
    "    def forward(self, x):\n",
    "        for layer in self.convs:\n",
    "            x = layer(x)\n",
    "        x = x.view(x.shape[0], -1)\n",
    "        for layer in self.fully:\n",
    "            x = layer(x)\n",
    "        return x"
   ]
  }
 ],
 "metadata": {
  "kernelspec": {
   "display_name": "Python 3 (ipykernel)",
   "language": "python",
   "name": "python3"
  },
  "language_info": {
   "codemirror_mode": {
    "name": "ipython",
    "version": 3
   },
   "file_extension": ".py",
   "mimetype": "text/x-python",
   "name": "python",
   "nbconvert_exporter": "python",
   "pygments_lexer": "ipython3",
   "version": "3.10.6"
  }
 },
 "nbformat": 4,
 "nbformat_minor": 2
}
